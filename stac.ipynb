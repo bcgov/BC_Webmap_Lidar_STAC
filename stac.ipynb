{
 "cells": [
  {
   "cell_type": "code",
   "execution_count": 1,
   "metadata": {},
   "outputs": [],
   "source": [
    "import pystac\n",
    "import json\n",
    "from datetime import datetime"
   ]
  },
  {
   "cell_type": "code",
   "execution_count": 3,
   "metadata": {},
   "outputs": [
    {
     "name": "stdout",
     "output_type": "stream",
     "text": [
      "bc_082e002_1_2_1_xyes_8_utm11_2019\n",
      "None\n"
     ]
    }
   ],
   "source": [
    "#have a function to get metadata for my STAC item\n",
    "\n",
    "with open('W:\\\\srm\\sry\\\\Workarea\\\\xwan\\\\BC_Webmap_Lidar_STAC_Xilin\\\\bc_082e002_1_2_1_xyes_8_utm11_2019.json', 'r') as file:\n",
    "    metadata = file.read()\n",
    "\n",
    "\n",
    "\n",
    "\n",
    "def extract_fields_from_metadata(metadata_json):\n",
    "    \n",
    "    metadata = json.loads(metadata_json)\n",
    "    \n",
    "    item_id = metadata[\"filename\"].split('.')[0]\n",
    "\n",
    "    \n",
    " \n",
    "\n",
    "   \n",
    "    print (item_id)\n",
    "    return \n",
    "\n",
    "extracted_fields = extract_fields_from_metadata(metadata)\n",
    "\n",
    "print(extracted_fields)\n",
    "\n"
   ]
  },
  {
   "cell_type": "code",
   "execution_count": 11,
   "metadata": {},
   "outputs": [
    {
     "ename": "AttributeError",
     "evalue": "'dict' object has no attribute 'tzinfo'",
     "output_type": "error",
     "traceback": [
      "\u001b[1;31m---------------------------------------------------------------------------\u001b[0m",
      "\u001b[1;31mAttributeError\u001b[0m                            Traceback (most recent call last)",
      "\u001b[1;32m~\\AppData\\Local\\Temp\\68\\ipykernel_315092\\1031711232.py\u001b[0m in \u001b[0;36m<cell line: 46>\u001b[1;34m()\u001b[0m\n\u001b[0;32m     44\u001b[0m \u001b[1;33m\u001b[0m\u001b[0m\n\u001b[0;32m     45\u001b[0m \u001b[1;31m# If you want to see the result as a JSON string\u001b[0m\u001b[1;33m\u001b[0m\u001b[1;33m\u001b[0m\u001b[0m\n\u001b[1;32m---> 46\u001b[1;33m \u001b[0mprint\u001b[0m\u001b[1;33m(\u001b[0m\u001b[0mstac_item\u001b[0m\u001b[1;33m.\u001b[0m\u001b[0mto_dict\u001b[0m\u001b[1;33m(\u001b[0m\u001b[1;33m)\u001b[0m\u001b[1;33m)\u001b[0m\u001b[1;33m\u001b[0m\u001b[1;33m\u001b[0m\u001b[0m\n\u001b[0m",
      "\u001b[1;32mw:\\srm\\sry\\Workarea\\xwan\\python\\python3916\\lib\\site-packages\\pystac\\item.py\u001b[0m in \u001b[0;36mto_dict\u001b[1;34m(self, include_self_link, transform_hrefs)\u001b[0m\n\u001b[0;32m    331\u001b[0m \u001b[1;33m\u001b[0m\u001b[0m\n\u001b[0;32m    332\u001b[0m         \u001b[1;32mif\u001b[0m \u001b[0mself\u001b[0m\u001b[1;33m.\u001b[0m\u001b[0mdatetime\u001b[0m \u001b[1;32mis\u001b[0m \u001b[1;32mnot\u001b[0m \u001b[1;32mNone\u001b[0m\u001b[1;33m:\u001b[0m\u001b[1;33m\u001b[0m\u001b[1;33m\u001b[0m\u001b[0m\n\u001b[1;32m--> 333\u001b[1;33m             \u001b[0mself\u001b[0m\u001b[1;33m.\u001b[0m\u001b[0mproperties\u001b[0m\u001b[1;33m[\u001b[0m\u001b[1;34m\"datetime\"\u001b[0m\u001b[1;33m]\u001b[0m \u001b[1;33m=\u001b[0m \u001b[0mdatetime_to_str\u001b[0m\u001b[1;33m(\u001b[0m\u001b[0mself\u001b[0m\u001b[1;33m.\u001b[0m\u001b[0mdatetime\u001b[0m\u001b[1;33m)\u001b[0m\u001b[1;33m\u001b[0m\u001b[1;33m\u001b[0m\u001b[0m\n\u001b[0m\u001b[0;32m    334\u001b[0m         \u001b[1;32melse\u001b[0m\u001b[1;33m:\u001b[0m\u001b[1;33m\u001b[0m\u001b[1;33m\u001b[0m\u001b[0m\n\u001b[0;32m    335\u001b[0m             \u001b[0mself\u001b[0m\u001b[1;33m.\u001b[0m\u001b[0mproperties\u001b[0m\u001b[1;33m[\u001b[0m\u001b[1;34m\"datetime\"\u001b[0m\u001b[1;33m]\u001b[0m \u001b[1;33m=\u001b[0m \u001b[1;32mNone\u001b[0m\u001b[1;33m\u001b[0m\u001b[1;33m\u001b[0m\u001b[0m\n",
      "\u001b[1;32mw:\\srm\\sry\\Workarea\\xwan\\python\\python3916\\lib\\site-packages\\pystac\\utils.py\u001b[0m in \u001b[0;36mdatetime_to_str\u001b[1;34m(dt, timespec)\u001b[0m\n\u001b[0;32m    389\u001b[0m         \u001b[0mstr\u001b[0m\u001b[1;33m:\u001b[0m \u001b[0mThe\u001b[0m \u001b[0mISO8601\u001b[0m \u001b[1;33m(\u001b[0m\u001b[0mRFC\u001b[0m \u001b[1;36m3339\u001b[0m\u001b[1;33m)\u001b[0m \u001b[0mformatted\u001b[0m \u001b[0mstring\u001b[0m \u001b[0mrepresenting\u001b[0m \u001b[0mthe\u001b[0m \u001b[0mdatetime\u001b[0m\u001b[1;33m.\u001b[0m\u001b[1;33m\u001b[0m\u001b[1;33m\u001b[0m\u001b[0m\n\u001b[0;32m    390\u001b[0m     \"\"\"\n\u001b[1;32m--> 391\u001b[1;33m     \u001b[1;32mif\u001b[0m \u001b[0mdt\u001b[0m\u001b[1;33m.\u001b[0m\u001b[0mtzinfo\u001b[0m \u001b[1;32mis\u001b[0m \u001b[1;32mNone\u001b[0m\u001b[1;33m:\u001b[0m\u001b[1;33m\u001b[0m\u001b[1;33m\u001b[0m\u001b[0m\n\u001b[0m\u001b[0;32m    392\u001b[0m         \u001b[0mdt\u001b[0m \u001b[1;33m=\u001b[0m \u001b[0mdt\u001b[0m\u001b[1;33m.\u001b[0m\u001b[0mreplace\u001b[0m\u001b[1;33m(\u001b[0m\u001b[0mtzinfo\u001b[0m\u001b[1;33m=\u001b[0m\u001b[0mtimezone\u001b[0m\u001b[1;33m.\u001b[0m\u001b[0mutc\u001b[0m\u001b[1;33m)\u001b[0m\u001b[1;33m\u001b[0m\u001b[1;33m\u001b[0m\u001b[0m\n\u001b[0;32m    393\u001b[0m \u001b[1;33m\u001b[0m\u001b[0m\n",
      "\u001b[1;31mAttributeError\u001b[0m: 'dict' object has no attribute 'tzinfo'"
     ]
    }
   ],
   "source": [
    "#Create STAC Item!\n",
    "\n",
    "def create_stac_item(data):\n",
    "    \"\"\"\n",
    "    Creates a STAC item using the extracted metadata fields.\n",
    "\n",
    "    Parameters:\n",
    "    - data: A string containing the JSON-formatted metadata.\n",
    "\n",
    "    Returns:\n",
    "    - A PySTAC Item object.\n",
    "    \"\"\"\n",
    "    # Parse the JSON string into a Python dictionary\n",
    "    input_file = json.loads(data)\n",
    "    \n",
    "\n",
    "    \n",
    "    # You'll need to add more parameters here to fully define your STAC item,\n",
    "    # such as geometry, datetime, and properties\n",
    "    item = pystac.Item(\n",
    "        id=input_file[\"filename\"].split('.')[0],#Use the parsed dictionary to access metadata fields\n",
    "        geometry={\n",
    "            \"type\":\"Point cloud\",\n",
    "            \"coordinates\": [[\n",
    "            [input_file[\"public_header_block\"][\"x_min\"], input_file[\"public_header_block\"][\"y_min\"]],\n",
    "            [input_file[\"public_header_block\"][\"x_min\"], input_file[\"public_header_block\"][\"y_max\"]],\n",
    "            [input_file[\"public_header_block\"][\"x_max\"], input_file[\"public_header_block\"][\"y_max\"]],\n",
    "            [input_file[\"public_header_block\"][\"x_max\"],input_file[\"public_header_block\"][\"y_min\"]],\n",
    "            [input_file[\"public_header_block\"][\"x_min\"], input_file[\"public_header_block\"][\"y_min\"]]\n",
    "            ]]\n",
    "        }, # Add your geometry here\n",
    "        properties={},  # Add your properties here\n",
    "        bbox=[],  # Add your bbox here\n",
    "        datetime={}  # Add your datetime here\n",
    "    )\n",
    "    return item\n",
    "\n",
    "\n",
    "# Use the function with the metadata\n",
    "with open('W:\\\\srm\\\\sry\\\\Workarea\\\\xwan\\\\BC_Webmap_Lidar_STAC_Xilin\\\\bc_082e002_1_2_1_xyes_8_utm11_2019.json', 'r') as file:\n",
    "    metadata = file.read()\n",
    "\n",
    "stac_item = create_stac_item(metadata)\n",
    "\n",
    "# If you want to see the result as a JSON string\n",
    "print(stac_item.to_dict())"
   ]
  }
 ],
 "metadata": {
  "kernelspec": {
   "display_name": "Python 3",
   "language": "python",
   "name": "python3"
  },
  "language_info": {
   "codemirror_mode": {
    "name": "ipython",
    "version": 3
   },
   "file_extension": ".py",
   "mimetype": "text/x-python",
   "name": "python",
   "nbconvert_exporter": "python",
   "pygments_lexer": "ipython3",
   "version": "3.9.16"
  },
  "orig_nbformat": 4
 },
 "nbformat": 4,
 "nbformat_minor": 2
}
