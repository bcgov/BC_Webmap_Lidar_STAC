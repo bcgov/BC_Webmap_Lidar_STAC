{
 "cells": [
  {
   "cell_type": "code",
   "execution_count": 6,
   "metadata": {},
   "outputs": [],
   "source": [
    "import json\n",
    "import os \n",
    "# Function to create an NDJSON file\n",
    "def create_ndjson(file_path, data):\n",
    "    with open(file_path, 'w') as f:\n",
    "        for item in data:\n",
    "            f.write(json.dumps(item) + '\\n')\n",
    "\n",
    "# Function to find all JSON files in a directory\n",
    "def find_json_files(directory):\n",
    "    json_files = []\n",
    "    for root, dirs, files in os.walk(directory):\n",
    "        for file in files:\n",
    "            if file.endswith('.json'):\n",
    "                json_files.append(os.path.join(root, file))\n",
    "    return json_files\n",
    "\n",
    "def read_and_combine_json_files(json_files):\n",
    "    combined_data = []\n",
    "    for file_path in json_files:\n",
    "        with open(file_path, 'r') as f:\n",
    "            data = json.load(f)\n",
    "            if isinstance(data, list):\n",
    "                combined_data.extend(data)\n",
    "            else:\n",
    "                combined_data.append(data)\n",
    "    return combined_data\n",
    "\n",
    "def main(input_directory, output_file):\n",
    "    # Find all JSON files in the directory\n",
    "    json_files = find_json_files(input_directory)\n",
    "    \n",
    "    # Read and combine data from all JSON files\n",
    "    combined_data = read_and_combine_json_files(json_files)\n",
    "    \n",
    "    # Create the NDJSON file with the combined data\n",
    "    create_ndjson(output_file, combined_data)\n",
    "    \n",
    "    print(f\"NDJSON file '{output_file}' has been created.\")"
   ]
  },
  {
   "cell_type": "code",
   "execution_count": 8,
   "metadata": {},
   "outputs": [
    {
     "name": "stdout",
     "output_type": "stream",
     "text": [
      "NDJSON file 'stac_dem_combined.ndjson' has been created.\n"
     ]
    }
   ],
   "source": [
    "# Specify the input directory and output file path\n",
    "input_directory = r\"STAC_DEM\"\n",
    "output_file = r'stac_dem_combined.ndjson'\n",
    "\n",
    "# Run the main script\n",
    "main(input_directory, output_file)"
   ]
  }
 ],
 "metadata": {
  "kernelspec": {
   "display_name": "stac_tools",
   "language": "python",
   "name": "python3"
  },
  "language_info": {
   "codemirror_mode": {
    "name": "ipython",
    "version": 3
   },
   "file_extension": ".py",
   "mimetype": "text/x-python",
   "name": "python",
   "nbconvert_exporter": "python",
   "pygments_lexer": "ipython3",
   "version": "3.11.7"
  }
 },
 "nbformat": 4,
 "nbformat_minor": 2
}
