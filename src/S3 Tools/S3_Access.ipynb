{
 "cells": [
  {
   "cell_type": "code",
   "execution_count": 1,
   "metadata": {},
   "outputs": [
    {
     "name": "stdout",
     "output_type": "stream",
     "text": [
      "loading dot env...\n"
     ]
    }
   ],
   "source": [
    "import logging\n",
    "import constants\n",
    "import boto3\n",
    "from botocore.exceptions import ClientError\n",
    "import os"
   ]
  },
  {
   "cell_type": "code",
   "execution_count": 2,
   "metadata": {},
   "outputs": [],
   "source": [
    "# use third party object storage to create an S3 Client\n",
    "s3_client = boto3.client(\n",
    "    \"s3\",\n",
    "    endpoint_url=constants.AWS_S3_ENDPOINT,\n",
    "    aws_access_key_id=constants.AWS_ACCESS_KEY_ID,\n",
    "    aws_secret_access_key=constants.AWS_SECRET_ACCESS_KEY,\n",
    ")\n",
    "\n",
    "bucket = constants.AWS_S3_BUCKET"
   ]
  },
  {
   "cell_type": "code",
   "execution_count": 3,
   "metadata": {},
   "outputs": [
    {
     "name": "stdout",
     "output_type": "stream",
     "text": [
      "2017_wildfire_imagery/C10683/wvge_c10683_c1r1_2017_bcalb_500mm_fcir_enh.sid\n",
      "42258526\n",
      "2017_wildfire_imagery/C10683/wvge_c10683_c1r1_2017_bcalb_500mm_rgb_enh.sid\n",
      "28932373\n",
      "STAC_DEM/\n",
      "0\n",
      "STAC_DEM/Catalog/DEM_Test.json\n",
      "1951\n",
      "STAC_DEM/Catalog/bc_092o018_xli1m_utm10_2018_2_cog/bc_092o018_xli1m_utm10_2018_2_cog.json\n",
      "1132\n",
      "STAC_DEM/Catalog/bc_092o018_xli1m_utm10_2018_cog/bc_092o018_xli1m_utm10_2018_cog.json\n",
      "1126\n",
      "STAC_DEM/Catalog/bc_092o019_xli1m_utm10_2018_2_cog/bc_092o019_xli1m_utm10_2018_2_cog.json\n",
      "1132\n",
      "STAC_DEM/Catalog/bc_092o019_xli1m_utm10_2018_cog/bc_092o019_xli1m_utm10_2018_cog.json\n",
      "1126\n",
      "STAC_DEM/Catalog/bc_092o020_xli1m_utm10_2018_2_cog/bc_092o020_xli1m_utm10_2018_2_cog.json\n",
      "1132\n",
      "STAC_DEM/Catalog/bc_092o020_xli1m_utm10_2018_cog/bc_092o020_xli1m_utm10_2018_cog.json\n",
      "1126\n",
      "STAC_DEM/Catalog/bc_092o028_xli1m_utm10_2018_cog/bc_092o028_xli1m_utm10_2018_cog.json\n",
      "1126\n",
      "STAC_DEM/Catalog/bc_092o029_xli1m_utm10_2019_cog/bc_092o029_xli1m_utm10_2019_cog.json\n",
      "1126\n",
      "STAC_DEM/Catalog/bc_092o030_xli1m_utm10_2018_cog/bc_092o030_xli1m_utm10_2018_cog.json\n",
      "1126\n",
      "STAC_DEM/Data/\n",
      "0\n",
      "STAC_DEM/Data/bc_092o018_xli1m_utm10_2018_2_cog.tif\n",
      "27945230\n",
      "STAC_DEM/Data/bc_092o018_xli1m_utm10_2018_cog.tif\n",
      "131166704\n",
      "STAC_DEM/Data/bc_092o019_xli1m_utm10_2018_2_cog.tif\n",
      "281923918\n",
      "STAC_DEM/Data/bc_092o019_xli1m_utm10_2018_cog.tif\n",
      "256676853\n",
      "STAC_DEM/Data/bc_092o020_xli1m_utm10_2018_2_cog.tif\n",
      "19758214\n",
      "STAC_DEM/Data/bc_092o020_xli1m_utm10_2018_cog.tif\n",
      "370620362\n",
      "STAC_DEM/Data/bc_092o028_xli1m_utm10_2018_cog.tif\n",
      "53380148\n",
      "STAC_DEM/Data/bc_092o029_xli1m_utm10_2019_cog.tif\n",
      "20150088\n",
      "STAC_DEM/Data/bc_092o030_xli1m_utm10_2018_cog.tif\n",
      "80279565\n",
      "catalog.json\n",
      "1788\n",
      "how2find_imagery_120114.pdf\n",
      "2064255\n",
      "mgtest/bc_092i045.tif\n",
      "632029358\n"
     ]
    }
   ],
   "source": [
    "#list contents of bucket \n",
    "response = s3_client.list_objects_v2(Bucket=bucket)\n",
    "\n",
    "if 'Contents' in response:\n",
    "    # Iterate over objects and print their names\n",
    "    for obj in response['Contents']:\n",
    "        print(obj['Key'])\n",
    "        print(obj['Size'])\n",
    "else:\n",
    "    print(\"No objects found in the bucket.\")"
   ]
  },
  {
   "cell_type": "code",
   "execution_count": 4,
   "metadata": {},
   "outputs": [],
   "source": [
    "# specify the folder path (in the current working directory) for your object \n",
    "# if the folder doesn't exist, create it\n",
    "save_path = os.path.join(os.getcwd(), r'junk')\n",
    "if not os.path.exists(save_path):\n",
    "    os.makedirs(save_path)\n",
    "\n",
    "# create new text file within the folder\n",
    "dest_file_path = os.path.join(save_path, r'test.txt')\n",
    "\n",
    "# write data to the new text file\n",
    "with open(dest_file_path, 'w') as fh:\n",
    "    fh.write('example example example\\n')"
   ]
  },
  {
   "cell_type": "code",
   "execution_count": null,
   "metadata": {},
   "outputs": [],
   "source": [
    "# put the new text file into your object storage bucket\n",
    "s3_client.put_object(Bucket=bucket, Key=dest_file_path)"
   ]
  },
  {
   "cell_type": "code",
   "execution_count": 5,
   "metadata": {},
   "outputs": [],
   "source": [
    "# define the function for creating presigned URL \n",
    "# running the function will return a shareable URL in the print output\n",
    "def create_presigned_url(\n",
    "    bucket_name = bucket,\n",
    "    object_name = dest_file_path,\n",
    "    expiration=180,\n",
    "):\n",
    "\n",
    "    try:\n",
    "        response = s3_client.generate_presigned_url(\n",
    "            \"get_object\",\n",
    "            Params={\"Bucket\": bucket_name, \"Key\": object_name},\n",
    "            ExpiresIn=expiration,\n",
    "            )\n",
    "        print(response)\n",
    "\n",
    "    except ClientError as e:\n",
    "        logging.error(e)\n",
    "        return None\n",
    "\n",
    "    # The response contains the presigned URL\n",
    "    return response"
   ]
  },
  {
   "cell_type": "code",
   "execution_count": null,
   "metadata": {},
   "outputs": [],
   "source": [
    "# run the presigned URL function with the given parameters\n",
    "create_presigned_url(bucket, dest_file_path)"
   ]
  },
  {
   "cell_type": "code",
   "execution_count": 4,
   "metadata": {},
   "outputs": [
    {
     "data": {
      "text/plain": [
       "{'ResponseMetadata': {'RequestId': '8e22ee0d:18fb3161e1b:9988:3f67',\n",
       "  'HostId': 'b04a9f110eba509b97b1110dfa30c33c9a6d8abab09f6ea12b617d45e2c37c27',\n",
       "  'HTTPStatusCode': 204,\n",
       "  'HTTPHeaders': {'date': 'Thu, 30 May 2024 14:47:29 GMT',\n",
       "   'server': 'ViPR/1.0',\n",
       "   'x-amz-request-id': '8e22ee0d:18fb3161e1b:9988:3f67',\n",
       "   'x-amz-id-2': 'b04a9f110eba509b97b1110dfa30c33c9a6d8abab09f6ea12b617d45e2c37c27',\n",
       "   'x-amz-version-id': '1717080449671',\n",
       "   'x-amz-delete-marker': 'true',\n",
       "   'x-emc-previous-object-size': '0',\n",
       "   'content-length': '0'},\n",
       "  'RetryAttempts': 0},\n",
       " 'DeleteMarker': True,\n",
       " 'VersionId': '1717080449671'}"
      ]
     },
     "execution_count": 4,
     "metadata": {},
     "output_type": "execute_result"
    }
   ],
   "source": [
    "# delete the remote object\n",
    "s3_client.delete_object(\n",
    "    Bucket=bucket, \n",
    "    Key='DEM_Test.json'\n",
    "    )"
   ]
  },
  {
   "cell_type": "code",
   "execution_count": 1,
   "metadata": {},
   "outputs": [],
   "source": [
    "# add folder to S3 bucket \n",
    "def uploadDirectory(path,bucketname):\n",
    "        for root,dirs,files in os.walk(path):\n",
    "            for file in files:\n",
    "                s3_client.upload_file(os.path.join(root,file),bucketname,file)"
   ]
  },
  {
   "cell_type": "code",
   "execution_count": 8,
   "metadata": {},
   "outputs": [
    {
     "name": "stdout",
     "output_type": "stream",
     "text": [
      "https://nrs.objectstore.gov.bc.ca:443/cloudgistest/STAC_DEM/Catalog/DEM_Test.json?AWSAccessKeyId=nr-cloudgis-test&Signature=2ZEL0qhz4HCMd5JxJNxPUAJdxNc%3D&Expires=1720045329\n",
      "https://nrs.objectstore.gov.bc.ca:443/cloudgistest/STAC_DEM/Catalog/bc_092o018_xli1m_utm10_2018_2_cog/bc_092o018_xli1m_utm10_2018_2_cog.json?AWSAccessKeyId=nr-cloudgis-test&Signature=3pVgxQNwtDQgZS9pNLIyILdx2nA%3D&Expires=1720045329\n",
      "https://nrs.objectstore.gov.bc.ca:443/cloudgistest/STAC_DEM/Catalog/bc_092o018_xli1m_utm10_2018_cog/bc_092o018_xli1m_utm10_2018_cog.json?AWSAccessKeyId=nr-cloudgis-test&Signature=GOFEj20k52Va3pesaR4OBFO%2Fc0Y%3D&Expires=1720045329\n",
      "https://nrs.objectstore.gov.bc.ca:443/cloudgistest/STAC_DEM/Catalog/bc_092o019_xli1m_utm10_2018_2_cog/bc_092o019_xli1m_utm10_2018_2_cog.json?AWSAccessKeyId=nr-cloudgis-test&Signature=zv4M4K0lT3M1%2BWk84D2SiUpOMzE%3D&Expires=1720045329\n",
      "https://nrs.objectstore.gov.bc.ca:443/cloudgistest/STAC_DEM/Catalog/bc_092o019_xli1m_utm10_2018_cog/bc_092o019_xli1m_utm10_2018_cog.json?AWSAccessKeyId=nr-cloudgis-test&Signature=oBQSbN61qYtTjcazpMamIQIVnxI%3D&Expires=1720045329\n",
      "https://nrs.objectstore.gov.bc.ca:443/cloudgistest/STAC_DEM/Catalog/bc_092o020_xli1m_utm10_2018_2_cog/bc_092o020_xli1m_utm10_2018_2_cog.json?AWSAccessKeyId=nr-cloudgis-test&Signature=y3ASAuLOkgkS3gqvasm6CbjUljQ%3D&Expires=1720045329\n",
      "https://nrs.objectstore.gov.bc.ca:443/cloudgistest/STAC_DEM/Catalog/bc_092o020_xli1m_utm10_2018_cog/bc_092o020_xli1m_utm10_2018_cog.json?AWSAccessKeyId=nr-cloudgis-test&Signature=w5IuySO7c2p0gp6lfE3ZJLVYcXg%3D&Expires=1720045329\n",
      "https://nrs.objectstore.gov.bc.ca:443/cloudgistest/STAC_DEM/Catalog/bc_092o028_xli1m_utm10_2018_cog/bc_092o028_xli1m_utm10_2018_cog.json?AWSAccessKeyId=nr-cloudgis-test&Signature=zwsq3iNTVJ7%2BUW%2FDS5nAtLvtyv4%3D&Expires=1720045329\n",
      "https://nrs.objectstore.gov.bc.ca:443/cloudgistest/STAC_DEM/Catalog/bc_092o029_xli1m_utm10_2019_cog/bc_092o029_xli1m_utm10_2019_cog.json?AWSAccessKeyId=nr-cloudgis-test&Signature=kkp3m%2BISYGTPltwiPscOvFlhq%2BU%3D&Expires=1720045329\n",
      "https://nrs.objectstore.gov.bc.ca:443/cloudgistest/STAC_DEM/Catalog/bc_092o030_xli1m_utm10_2018_cog/bc_092o030_xli1m_utm10_2018_cog.json?AWSAccessKeyId=nr-cloudgis-test&Signature=y8ltP9C%2Fu9TXEIPN62xliVWUt0A%3D&Expires=1720045329\n"
     ]
    }
   ],
   "source": [
    "#download jsons\n",
    "#list contents of bucket \n",
    "response = s3_client.list_objects_v2(Bucket=bucket,Prefix='STAC_DEM/Catalog' )\n",
    "\n",
    "if 'Contents' in response:\n",
    "    # Iterate over objects and print their names\n",
    "    for obj in response['Contents']:\n",
    "        create_presigned_url(bucket,obj['Key'])\n",
    "        \n",
    "else:\n",
    "    print(\"No objects found in the bucket.\")\n"
   ]
  },
  {
   "cell_type": "code",
   "execution_count": 9,
   "metadata": {},
   "outputs": [
    {
     "name": "stdout",
     "output_type": "stream",
     "text": [
      "No objects found in the bucket.\n"
     ]
    }
   ],
   "source": [
    "#delete stac jsons\n",
    "#list contents of bucket \n",
    "response = s3_client.list_objects_v2(Bucket=bucket,Prefix='STAC_DEM/Catalog' )\n",
    "\n",
    "if 'Contents' in response:\n",
    "    # Iterate over objects and print their names\n",
    "    for obj in response['Contents']:\n",
    "        print(obj['Key'])\n",
    "        s3_client.delete_object(\n",
    "            Bucket=bucket, \n",
    "            Key=obj['Key']\n",
    "            )\n",
    "else:\n",
    "    print(\"No objects found in the bucket.\")\n"
   ]
  }
 ],
 "metadata": {
  "kernelspec": {
   "display_name": "Python 3",
   "language": "python",
   "name": "python3"
  },
  "language_info": {
   "codemirror_mode": {
    "name": "ipython",
    "version": 3
   },
   "file_extension": ".py",
   "mimetype": "text/x-python",
   "name": "python",
   "nbconvert_exporter": "python",
   "pygments_lexer": "ipython3",
   "version": "3.11.7"
  }
 },
 "nbformat": 4,
 "nbformat_minor": 2
}
