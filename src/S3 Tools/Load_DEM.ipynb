{
 "cells": [
  {
   "cell_type": "code",
   "execution_count": 1,
   "metadata": {},
   "outputs": [
    {
     "name": "stdout",
     "output_type": "stream",
     "text": [
      "loading dot env...\n"
     ]
    }
   ],
   "source": [
    "import logging\n",
    "import constants\n",
    "import boto3\n",
    "from botocore.exceptions import ClientError\n",
    "import os\n",
    "from osgeo import gdal\n",
    "import glob"
   ]
  },
  {
   "cell_type": "code",
   "execution_count": 2,
   "metadata": {},
   "outputs": [],
   "source": [
    "# use third party object storage to create an S3 Client\n",
    "s3_client = boto3.client(\n",
    "    \"s3\",\n",
    "    endpoint_url=constants.AWS_S3_ENDPOINT,\n",
    "    aws_access_key_id=constants.AWS_ACCESS_KEY_ID,\n",
    "    aws_secret_access_key=constants.AWS_SECRET_ACCESS_KEY,\n",
    "    \n",
    "    \n",
    ")\n",
    "\n",
    "bucket = constants.AWS_S3_BUCKET\n",
    "\n"
   ]
  },
  {
   "cell_type": "code",
   "execution_count": 3,
   "metadata": {},
   "outputs": [
    {
     "name": "stdout",
     "output_type": "stream",
     "text": [
      "2017_wildfire_imagery/C10683/wvge_c10683_c1r1_2017_bcalb_500mm_fcir_enh.sid\n",
      "2017_wildfire_imagery/C10683/wvge_c10683_c1r1_2017_bcalb_500mm_rgb_enh.sid\n",
      "STAC_DEM/\n",
      "STAC_DEM/Catalog/DEM_Test.json\n",
      "STAC_DEM/Catalog/bc_092o020_xli1m_utm10_2018_cog\n",
      "STAC_DEM/Data/\n",
      "STAC_DEM/Data/bc_092o018_xli1m_utm10_2018_2_cog.tif\n",
      "STAC_DEM/Data/bc_092o018_xli1m_utm10_2018_cog.tif\n",
      "STAC_DEM/Data/bc_092o019_xli1m_utm10_2018_2_cog.tif\n",
      "STAC_DEM/Data/bc_092o019_xli1m_utm10_2018_cog.tif\n",
      "STAC_DEM/Data/bc_092o020_xli1m_utm10_2018_2_cog.tif\n",
      "STAC_DEM/Data/bc_092o020_xli1m_utm10_2018_cog.tif\n",
      "STAC_DEM/Data/bc_092o028_xli1m_utm10_2018_cog.tif\n",
      "STAC_DEM/Data/bc_092o029_xli1m_utm10_2019_cog.tif\n",
      "STAC_DEM/Data/bc_092o030_xli1m_utm10_2018_cog.tif\n",
      "catalog.json\n",
      "how2find_imagery_120114.pdf\n",
      "mgtest/bc_092i045.tif\n"
     ]
    }
   ],
   "source": [
    "#list contents of bucket \n",
    "response = s3_client.list_objects_v2(Bucket=bucket)\n",
    "\n",
    "if 'Contents' in response:\n",
    "    # Iterate over objects and print their names\n",
    "    for obj in response['Contents']:\n",
    "        print(obj['Key'])\n",
    "else:\n",
    "    print(\"No objects found in the bucket.\")"
   ]
  },
  {
   "cell_type": "code",
   "execution_count": 16,
   "metadata": {},
   "outputs": [
    {
     "name": "stdout",
     "output_type": "stream",
     "text": [
      "['STAC_DEM/', 'STAC_DEM/Data/', 'STAC_DEM/Catalogs/']\n",
      "The object STAC_DEM/' in bucket 'cloudgistest' exists.\n",
      "The object STAC_DEM/Data/' in bucket 'cloudgistest' exists.\n"
     ]
    },
    {
     "data": {
      "text/plain": [
       "{'ResponseMetadata': {'RequestId': '8e22ee10:18fb31a035c:d2d2:3805',\n",
       "  'HostId': '59270a9007ad42687d56a72a68420adec4ebd7245ff960c4a93f9baf5ad3e351',\n",
       "  'HTTPStatusCode': 200,\n",
       "  'HTTPHeaders': {'date': 'Thu, 30 May 2024 14:46:45 GMT',\n",
       "   'server': 'ViPR/1.0',\n",
       "   'x-amz-request-id': '8e22ee10:18fb31a035c:d2d2:3805',\n",
       "   'x-amz-id-2': '59270a9007ad42687d56a72a68420adec4ebd7245ff960c4a93f9baf5ad3e351',\n",
       "   'etag': '\"d41d8cd98f00b204e9800998ecf8427e\"',\n",
       "   'last-modified': 'Thu, 30 May 2024 14:46:45 GMT',\n",
       "   'x-emc-mtime': '1717080405112',\n",
       "   'x-emc-previous-object-size': '0',\n",
       "   'x-amz-version-id': '1717080405112',\n",
       "   'content-length': '0'},\n",
       "  'RetryAttempts': 0},\n",
       " 'ETag': '\"d41d8cd98f00b204e9800998ecf8427e\"',\n",
       " 'VersionId': '1717080405112'}"
      ]
     },
     "execution_count": 16,
     "metadata": {},
     "output_type": "execute_result"
    }
   ],
   "source": [
    "#Create Folder Like Structure(empty objects) for STAC Lidar base area and point clouds, if they do no exist already  .laz files will go into point clouds object\n",
    "base_obj=\"STAC_DEM/\"\n",
    "pc_obj=\"STAC_DEM/Data/\"\n",
    "ct_obj=\"STAC_DEM/Catalogs/\"\n",
    "obj_list=[base_obj,pc_obj, ct_obj]\n",
    "\n",
    "print(obj_list)\n",
    "for item in obj_list:\n",
    "    response = s3_client.list_objects_v2(Bucket=bucket, Prefix=item)\n",
    "    if 'Contents' in response:\n",
    "        for obj in response['Contents']:\n",
    "            if obj['Key'] == item:\n",
    "                print(f\"The object {item}' in bucket '{bucket}' exists.\")\n",
    "                break\n",
    "        else:\n",
    "            print(f\"The object {item}' in bucket '{bucket}' dose not exist, adding object\")\n",
    "            s3_client.put_object(Bucket=bucket, Key=item)\n",
    "\n",
    "\n",
    "s3_client.put_object(Bucket=bucket, Key=pc_obj)"
   ]
  },
  {
   "cell_type": "code",
   "execution_count": 9,
   "metadata": {},
   "outputs": [],
   "source": [
    "# specify the folder path (in the current working directory) where objects are/will be\n",
    "# if the folder doesn't exist, create it\n",
    "save_path = (r'/home/cfolkers/STAC_LiDAR/DEM')\n",
    "if not os.path.exists(save_path):\n",
    "    os.makedirs(save_path)\n"
   ]
  },
  {
   "cell_type": "code",
   "execution_count": 10,
   "metadata": {},
   "outputs": [],
   "source": [
    "#create COGSs\n",
    "DEM_list=os.listdir(save_path)\n",
    "\n",
    "options = ['COMPRESS=LZW', 'NUM_THREADS=ALL_CPUS', 'BIGTIFF=YES']\n",
    "\n",
    "\n",
    "for f in DEM_list:\n",
    "    f=os.path.join(save_path,f)\n",
    "    splits=f.split('.')\n",
    "    output_cog=f\"{splits[0]}_cog.{splits[1]}\"\n",
    "    input_dataset = gdal.Open(f)\n",
    "    gdal.Translate(output_cog, input_dataset, format='COG', creationOptions=options)\n",
    "    input_dataset = None  \n"
   ]
  },
  {
   "cell_type": "code",
   "execution_count": 12,
   "metadata": {},
   "outputs": [
    {
     "ename": "KeyboardInterrupt",
     "evalue": "",
     "output_type": "error",
     "traceback": [
      "\u001b[0;31m---------------------------------------------------------------------------\u001b[0m",
      "\u001b[0;31mKeyboardInterrupt\u001b[0m                         Traceback (most recent call last)",
      "Cell \u001b[0;32mIn[12], line 7\u001b[0m\n\u001b[1;32m      5\u001b[0m     obj_load\u001b[38;5;241m=\u001b[39mos\u001b[38;5;241m.\u001b[39mpath\u001b[38;5;241m.\u001b[39mjoin(save_path,obj)\n\u001b[1;32m      6\u001b[0m     obj_key\u001b[38;5;241m=\u001b[39mpc_obj\u001b[38;5;241m+\u001b[39mos\u001b[38;5;241m.\u001b[39mpath\u001b[38;5;241m.\u001b[39mbasename(obj)\n\u001b[0;32m----> 7\u001b[0m     \u001b[43ms3_client\u001b[49m\u001b[38;5;241;43m.\u001b[39;49m\u001b[43mupload_file\u001b[49m\u001b[43m(\u001b[49m\u001b[43mobj_load\u001b[49m\u001b[43m,\u001b[49m\u001b[43m \u001b[49m\u001b[43mBucket\u001b[49m\u001b[38;5;241;43m=\u001b[39;49m\u001b[43mbucket\u001b[49m\u001b[43m,\u001b[49m\u001b[43m \u001b[49m\u001b[43mKey\u001b[49m\u001b[38;5;241;43m=\u001b[39;49m\u001b[43mobj_key\u001b[49m\u001b[43m)\u001b[49m\n\u001b[1;32m      9\u001b[0m \u001b[38;5;28mprint\u001b[39m(\u001b[38;5;124mf\u001b[39m\u001b[38;5;124m\"\u001b[39m\u001b[38;5;124mObjects uploaded to folder \u001b[39m\u001b[38;5;124m'\u001b[39m\u001b[38;5;132;01m{\u001b[39;00mpc_obj\u001b[38;5;132;01m}\u001b[39;00m\u001b[38;5;124m'\u001b[39m\u001b[38;5;124m in bucket \u001b[39m\u001b[38;5;124m'\u001b[39m\u001b[38;5;132;01m{\u001b[39;00mbucket\u001b[38;5;132;01m}\u001b[39;00m\u001b[38;5;124m'\u001b[39m\u001b[38;5;124m.\u001b[39m\u001b[38;5;124m\"\u001b[39m)\n",
      "File \u001b[0;32m~/miniforge3/envs/stac_tools/lib/python3.11/site-packages/boto3/s3/inject.py:143\u001b[0m, in \u001b[0;36mupload_file\u001b[0;34m(self, Filename, Bucket, Key, ExtraArgs, Callback, Config)\u001b[0m\n\u001b[1;32m    108\u001b[0m \u001b[38;5;250m\u001b[39m\u001b[38;5;124;03m\"\"\"Upload a file to an S3 object.\u001b[39;00m\n\u001b[1;32m    109\u001b[0m \n\u001b[1;32m    110\u001b[0m \u001b[38;5;124;03mUsage::\u001b[39;00m\n\u001b[0;32m   (...)\u001b[0m\n\u001b[1;32m    140\u001b[0m \u001b[38;5;124;03m    transfer.\u001b[39;00m\n\u001b[1;32m    141\u001b[0m \u001b[38;5;124;03m\"\"\"\u001b[39;00m\n\u001b[1;32m    142\u001b[0m \u001b[38;5;28;01mwith\u001b[39;00m S3Transfer(\u001b[38;5;28mself\u001b[39m, Config) \u001b[38;5;28;01mas\u001b[39;00m transfer:\n\u001b[0;32m--> 143\u001b[0m     \u001b[38;5;28;01mreturn\u001b[39;00m \u001b[43mtransfer\u001b[49m\u001b[38;5;241;43m.\u001b[39;49m\u001b[43mupload_file\u001b[49m\u001b[43m(\u001b[49m\n\u001b[1;32m    144\u001b[0m \u001b[43m        \u001b[49m\u001b[43mfilename\u001b[49m\u001b[38;5;241;43m=\u001b[39;49m\u001b[43mFilename\u001b[49m\u001b[43m,\u001b[49m\n\u001b[1;32m    145\u001b[0m \u001b[43m        \u001b[49m\u001b[43mbucket\u001b[49m\u001b[38;5;241;43m=\u001b[39;49m\u001b[43mBucket\u001b[49m\u001b[43m,\u001b[49m\n\u001b[1;32m    146\u001b[0m \u001b[43m        \u001b[49m\u001b[43mkey\u001b[49m\u001b[38;5;241;43m=\u001b[39;49m\u001b[43mKey\u001b[49m\u001b[43m,\u001b[49m\n\u001b[1;32m    147\u001b[0m \u001b[43m        \u001b[49m\u001b[43mextra_args\u001b[49m\u001b[38;5;241;43m=\u001b[39;49m\u001b[43mExtraArgs\u001b[49m\u001b[43m,\u001b[49m\n\u001b[1;32m    148\u001b[0m \u001b[43m        \u001b[49m\u001b[43mcallback\u001b[49m\u001b[38;5;241;43m=\u001b[39;49m\u001b[43mCallback\u001b[49m\u001b[43m,\u001b[49m\n\u001b[1;32m    149\u001b[0m \u001b[43m    \u001b[49m\u001b[43m)\u001b[49m\n",
      "File \u001b[0;32m~/miniforge3/envs/stac_tools/lib/python3.11/site-packages/boto3/s3/transfer.py:292\u001b[0m, in \u001b[0;36mS3Transfer.upload_file\u001b[0;34m(self, filename, bucket, key, callback, extra_args)\u001b[0m\n\u001b[1;32m    288\u001b[0m future \u001b[38;5;241m=\u001b[39m \u001b[38;5;28mself\u001b[39m\u001b[38;5;241m.\u001b[39m_manager\u001b[38;5;241m.\u001b[39mupload(\n\u001b[1;32m    289\u001b[0m     filename, bucket, key, extra_args, subscribers\n\u001b[1;32m    290\u001b[0m )\n\u001b[1;32m    291\u001b[0m \u001b[38;5;28;01mtry\u001b[39;00m:\n\u001b[0;32m--> 292\u001b[0m     \u001b[43mfuture\u001b[49m\u001b[38;5;241;43m.\u001b[39;49m\u001b[43mresult\u001b[49m\u001b[43m(\u001b[49m\u001b[43m)\u001b[49m\n\u001b[1;32m    293\u001b[0m \u001b[38;5;66;03m# If a client error was raised, add the backwards compatibility layer\u001b[39;00m\n\u001b[1;32m    294\u001b[0m \u001b[38;5;66;03m# that raises a S3UploadFailedError. These specific errors were only\u001b[39;00m\n\u001b[1;32m    295\u001b[0m \u001b[38;5;66;03m# ever thrown for upload_parts but now can be thrown for any related\u001b[39;00m\n\u001b[1;32m    296\u001b[0m \u001b[38;5;66;03m# client error.\u001b[39;00m\n\u001b[1;32m    297\u001b[0m \u001b[38;5;28;01mexcept\u001b[39;00m ClientError \u001b[38;5;28;01mas\u001b[39;00m e:\n",
      "File \u001b[0;32m~/miniforge3/envs/stac_tools/lib/python3.11/site-packages/s3transfer/futures.py:106\u001b[0m, in \u001b[0;36mTransferFuture.result\u001b[0;34m(self)\u001b[0m\n\u001b[1;32m    104\u001b[0m \u001b[38;5;28;01mexcept\u001b[39;00m \u001b[38;5;167;01mKeyboardInterrupt\u001b[39;00m \u001b[38;5;28;01mas\u001b[39;00m e:\n\u001b[1;32m    105\u001b[0m     \u001b[38;5;28mself\u001b[39m\u001b[38;5;241m.\u001b[39mcancel()\n\u001b[0;32m--> 106\u001b[0m     \u001b[38;5;28;01mraise\u001b[39;00m e\n",
      "File \u001b[0;32m~/miniforge3/envs/stac_tools/lib/python3.11/site-packages/s3transfer/futures.py:103\u001b[0m, in \u001b[0;36mTransferFuture.result\u001b[0;34m(self)\u001b[0m\n\u001b[1;32m     98\u001b[0m \u001b[38;5;28;01mdef\u001b[39;00m \u001b[38;5;21mresult\u001b[39m(\u001b[38;5;28mself\u001b[39m):\n\u001b[1;32m     99\u001b[0m     \u001b[38;5;28;01mtry\u001b[39;00m:\n\u001b[1;32m    100\u001b[0m         \u001b[38;5;66;03m# Usually the result() method blocks until the transfer is done,\u001b[39;00m\n\u001b[1;32m    101\u001b[0m         \u001b[38;5;66;03m# however if a KeyboardInterrupt is raised we want want to exit\u001b[39;00m\n\u001b[1;32m    102\u001b[0m         \u001b[38;5;66;03m# out of this and propagate the exception.\u001b[39;00m\n\u001b[0;32m--> 103\u001b[0m         \u001b[38;5;28;01mreturn\u001b[39;00m \u001b[38;5;28;43mself\u001b[39;49m\u001b[38;5;241;43m.\u001b[39;49m\u001b[43m_coordinator\u001b[49m\u001b[38;5;241;43m.\u001b[39;49m\u001b[43mresult\u001b[49m\u001b[43m(\u001b[49m\u001b[43m)\u001b[49m\n\u001b[1;32m    104\u001b[0m     \u001b[38;5;28;01mexcept\u001b[39;00m \u001b[38;5;167;01mKeyboardInterrupt\u001b[39;00m \u001b[38;5;28;01mas\u001b[39;00m e:\n\u001b[1;32m    105\u001b[0m         \u001b[38;5;28mself\u001b[39m\u001b[38;5;241m.\u001b[39mcancel()\n",
      "File \u001b[0;32m~/miniforge3/envs/stac_tools/lib/python3.11/site-packages/s3transfer/futures.py:261\u001b[0m, in \u001b[0;36mTransferCoordinator.result\u001b[0;34m(self)\u001b[0m\n\u001b[1;32m    251\u001b[0m \u001b[38;5;250m\u001b[39m\u001b[38;5;124;03m\"\"\"Waits until TransferFuture is done and returns the result\u001b[39;00m\n\u001b[1;32m    252\u001b[0m \n\u001b[1;32m    253\u001b[0m \u001b[38;5;124;03mIf the TransferFuture succeeded, it will return the result. If the\u001b[39;00m\n\u001b[1;32m    254\u001b[0m \u001b[38;5;124;03mTransferFuture failed, it will raise the exception associated to the\u001b[39;00m\n\u001b[1;32m    255\u001b[0m \u001b[38;5;124;03mfailure.\u001b[39;00m\n\u001b[1;32m    256\u001b[0m \u001b[38;5;124;03m\"\"\"\u001b[39;00m\n\u001b[1;32m    257\u001b[0m \u001b[38;5;66;03m# Doing a wait() with no timeout cannot be interrupted in python2 but\u001b[39;00m\n\u001b[1;32m    258\u001b[0m \u001b[38;5;66;03m# can be interrupted in python3 so we just wait with the largest\u001b[39;00m\n\u001b[1;32m    259\u001b[0m \u001b[38;5;66;03m# possible value integer value, which is on the scale of billions of\u001b[39;00m\n\u001b[1;32m    260\u001b[0m \u001b[38;5;66;03m# years...\u001b[39;00m\n\u001b[0;32m--> 261\u001b[0m \u001b[38;5;28;43mself\u001b[39;49m\u001b[38;5;241;43m.\u001b[39;49m\u001b[43m_done_event\u001b[49m\u001b[38;5;241;43m.\u001b[39;49m\u001b[43mwait\u001b[49m\u001b[43m(\u001b[49m\u001b[43mMAXINT\u001b[49m\u001b[43m)\u001b[49m\n\u001b[1;32m    263\u001b[0m \u001b[38;5;66;03m# Once done waiting, raise an exception if present or return the\u001b[39;00m\n\u001b[1;32m    264\u001b[0m \u001b[38;5;66;03m# final result.\u001b[39;00m\n\u001b[1;32m    265\u001b[0m \u001b[38;5;28;01mif\u001b[39;00m \u001b[38;5;28mself\u001b[39m\u001b[38;5;241m.\u001b[39m_exception:\n",
      "File \u001b[0;32m~/miniforge3/envs/stac_tools/lib/python3.11/threading.py:629\u001b[0m, in \u001b[0;36mEvent.wait\u001b[0;34m(self, timeout)\u001b[0m\n\u001b[1;32m    627\u001b[0m signaled \u001b[38;5;241m=\u001b[39m \u001b[38;5;28mself\u001b[39m\u001b[38;5;241m.\u001b[39m_flag\n\u001b[1;32m    628\u001b[0m \u001b[38;5;28;01mif\u001b[39;00m \u001b[38;5;129;01mnot\u001b[39;00m signaled:\n\u001b[0;32m--> 629\u001b[0m     signaled \u001b[38;5;241m=\u001b[39m \u001b[38;5;28;43mself\u001b[39;49m\u001b[38;5;241;43m.\u001b[39;49m\u001b[43m_cond\u001b[49m\u001b[38;5;241;43m.\u001b[39;49m\u001b[43mwait\u001b[49m\u001b[43m(\u001b[49m\u001b[43mtimeout\u001b[49m\u001b[43m)\u001b[49m\n\u001b[1;32m    630\u001b[0m \u001b[38;5;28;01mreturn\u001b[39;00m signaled\n",
      "File \u001b[0;32m~/miniforge3/envs/stac_tools/lib/python3.11/threading.py:327\u001b[0m, in \u001b[0;36mCondition.wait\u001b[0;34m(self, timeout)\u001b[0m\n\u001b[1;32m    325\u001b[0m \u001b[38;5;28;01mtry\u001b[39;00m:    \u001b[38;5;66;03m# restore state no matter what (e.g., KeyboardInterrupt)\u001b[39;00m\n\u001b[1;32m    326\u001b[0m     \u001b[38;5;28;01mif\u001b[39;00m timeout \u001b[38;5;129;01mis\u001b[39;00m \u001b[38;5;28;01mNone\u001b[39;00m:\n\u001b[0;32m--> 327\u001b[0m         \u001b[43mwaiter\u001b[49m\u001b[38;5;241;43m.\u001b[39;49m\u001b[43macquire\u001b[49m\u001b[43m(\u001b[49m\u001b[43m)\u001b[49m\n\u001b[1;32m    328\u001b[0m         gotit \u001b[38;5;241m=\u001b[39m \u001b[38;5;28;01mTrue\u001b[39;00m\n\u001b[1;32m    329\u001b[0m     \u001b[38;5;28;01melse\u001b[39;00m:\n",
      "\u001b[0;31mKeyboardInterrupt\u001b[0m: "
     ]
    }
   ],
   "source": [
    "# put .laz files into your object storage \"STAC_LiDAR/PointClouds/\"\n",
    "\n",
    "DEM_list= glob.glob(fr\"{save_path}/*_cog.*\")\n",
    "for obj in DEM_list:\n",
    "    obj_load=os.path.join(save_path,obj)\n",
    "    obj_key=pc_obj+os.path.basename(obj)\n",
    "    # s3_client.upload_file(obj_load, Bucket=bucket, Key=obj_key)\n",
    "    \n",
    "print(f\"Objects uploaded to folder '{pc_obj}' in bucket '{bucket}'.\")\n"
   ]
  },
  {
   "cell_type": "code",
   "execution_count": 17,
   "metadata": {},
   "outputs": [
    {
     "name": "stdout",
     "output_type": "stream",
     "text": [
      "STAC_DEM/Data/bc_092o018_xli1m_utm10_2018_2_cog.tif\n",
      "Object Size 27945230\n",
      "STAC_DEM/Data/bc_092o018_xli1m_utm10_2018_cog.tif\n",
      "Object Size 131166704\n",
      "STAC_DEM/Data/bc_092o019_xli1m_utm10_2018_2_cog.tif\n",
      "Object Size 281923918\n",
      "STAC_DEM/Data/bc_092o019_xli1m_utm10_2018_cog.tif\n",
      "Object Size 256676853\n",
      "STAC_DEM/Data/bc_092o020_xli1m_utm10_2018_2_cog.tif\n",
      "Object Size 19758214\n",
      "STAC_DEM/Data/bc_092o020_xli1m_utm10_2018_cog.tif\n",
      "Object Size 370620362\n",
      "STAC_DEM/Data/bc_092o028_xli1m_utm10_2018_cog.tif\n",
      "Object Size 53380148\n",
      "STAC_DEM/Data/bc_092o029_xli1m_utm10_2019_cog.tif\n",
      "Object Size 20150088\n",
      "STAC_DEM/Data/bc_092o030_xli1m_utm10_2018_cog.tif\n",
      "Object Size 80279565\n"
     ]
    }
   ],
   "source": [
    "#list .laz objects in bucket\n",
    "# object_key=\"STAC_LiDAR/PointClouds/\"\n",
    "laz_objects=[]\n",
    "\n",
    "response = s3_client.list_objects_v2(Bucket=bucket, Prefix=pc_obj, StartAfter=pc_obj)\n",
    "\n",
    "if 'Contents' in response:\n",
    "    # Iterate over objects and print their names\n",
    "    for obj in response['Contents']:\n",
    "        laz_objects.append(obj['Key'])\n",
    "        print(obj['Key'])\n",
    "        print(f\"Object Size {obj['Size']}\")\n",
    "else:\n",
    "    print(\"No objects found in the bucket.\")"
   ]
  },
  {
   "cell_type": "code",
   "execution_count": 6,
   "metadata": {},
   "outputs": [
    {
     "name": "stdout",
     "output_type": "stream",
     "text": [
      "STAC_LiDAR/DEM//home/cfolkers/STAC_LiDAR/DEM/bc_092o018_xli1m_utm10_2018_2_cog.tif\n",
      "STAC_LiDAR/DEM//home/cfolkers/STAC_LiDAR/DEM/bc_092o018_xli1m_utm10_2018_cog.tif\n",
      "STAC_LiDAR/DEM//home/cfolkers/STAC_LiDAR/DEM/bc_092o019_xli1m_utm10_2018_2_cog.tif\n",
      "STAC_LiDAR/DEM//home/cfolkers/STAC_LiDAR/DEM/bc_092o019_xli1m_utm10_2018_cog.tif\n",
      "STAC_LiDAR/DEM//home/cfolkers/STAC_LiDAR/DEM/bc_092o020_xli1m_utm10_2018_2_cog.tif\n",
      "STAC_LiDAR/DEM//home/cfolkers/STAC_LiDAR/DEM/bc_092o020_xli1m_utm10_2018_cog.tif\n",
      "STAC_LiDAR/DEM//home/cfolkers/STAC_LiDAR/DEM/bc_092o028_xli1m_utm10_2018_cog.tif\n",
      "STAC_LiDAR/DEM//home/cfolkers/STAC_LiDAR/DEM/bc_092o029_xli1m_utm10_2019_cog.tif\n",
      "STAC_LiDAR/DEM//home/cfolkers/STAC_LiDAR/DEM/bc_092o030_xli1m_utm10_2018_cog.tif\n"
     ]
    }
   ],
   "source": [
    "### Run only to delete all objects \n",
    "pc_obj=\"STAC_LiDAR/DEM/\"\n",
    "response = s3_client.list_objects_v2(Bucket=bucket, Prefix=pc_obj, StartAfter=pc_obj)\n",
    "\n",
    "if 'Contents' in response:\n",
    "    # Iterate over objects and print their names\n",
    "    for obj in response['Contents']:\n",
    "        print(obj['Key'])\n",
    "        s3_client.delete_object(Bucket=bucket, Key=obj['Key']\n",
    "    )"
   ]
  }
 ],
 "metadata": {
  "kernelspec": {
   "display_name": "Python 3",
   "language": "python",
   "name": "python3"
  },
  "language_info": {
   "codemirror_mode": {
    "name": "ipython",
    "version": 3
   },
   "file_extension": ".py",
   "mimetype": "text/x-python",
   "name": "python",
   "nbconvert_exporter": "python",
   "pygments_lexer": "ipython3",
   "version": "3.11.7"
  }
 },
 "nbformat": 4,
 "nbformat_minor": 2
}
