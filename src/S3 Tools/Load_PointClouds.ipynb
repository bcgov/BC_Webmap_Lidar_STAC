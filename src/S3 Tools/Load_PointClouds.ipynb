{
 "cells": [
  {
   "cell_type": "code",
   "execution_count": 1,
   "metadata": {},
   "outputs": [
    {
     "name": "stdout",
     "output_type": "stream",
     "text": [
      "loading dot env...\n"
     ]
    }
   ],
   "source": [
    "import logging\n",
    "import constants\n",
    "import boto3\n",
    "from botocore.exceptions import ClientError\n",
    "import os"
   ]
  },
  {
   "cell_type": "code",
   "execution_count": 2,
   "metadata": {},
   "outputs": [],
   "source": [
    "# use third party object storage to create an S3 Client\n",
    "s3_client = boto3.client(\n",
    "    \"s3\",\n",
    "    endpoint_url=constants.AWS_S3_ENDPOINT,\n",
    "    aws_access_key_id=constants.AWS_ACCESS_KEY_ID,\n",
    "    aws_secret_access_key=constants.AWS_SECRET_ACCESS_KEY,\n",
    ")\n",
    "\n",
    "bucket = constants.AWS_S3_BUCKET"
   ]
  },
  {
   "cell_type": "code",
   "execution_count": 11,
   "metadata": {},
   "outputs": [
    {
     "name": "stdout",
     "output_type": "stream",
     "text": [
      "2023-06-01.csv\n",
      "2023-06-02.csv\n",
      "STAC_LiDAR/\n",
      "STAC_LiDAR/PointClouds/\n",
      "_$folder$\n",
      "geotest/\n",
      "geotest/_$folder$\n",
      "geotest/cog/082E01_rgb.tif\n",
      "geotest/cog/_$folder$\n",
      "geotest/cog/lzw2_082E01_rgb.tif\n",
      "geotest/cog/lzw_082E01_rgb.tif\n",
      "geotest/veg_comp_layer_r1_poly.parquet\n"
     ]
    }
   ],
   "source": [
    "#list contents of bucket \n",
    "response = s3_client.list_objects_v2(Bucket=bucket)\n",
    "\n",
    "if 'Contents' in response:\n",
    "    # Iterate over objects and print their names\n",
    "    for obj in response['Contents']:\n",
    "        print(obj['Key'])\n",
    "else:\n",
    "    print(\"No objects found in the bucket.\")"
   ]
  },
  {
   "cell_type": "code",
   "execution_count": 4,
   "metadata": {},
   "outputs": [
    {
     "name": "stdout",
     "output_type": "stream",
     "text": [
      "The object STAC_LiDAR/' in bucket 'rczimv' exists.\n",
      "The object STAC_LiDAR/PointClouds/' in bucket 'rczimv' exists.\n"
     ]
    }
   ],
   "source": [
    "#Create Folder Like Structure(empty objects) for STAC Lidar base area and point clouds, if they do no exist already  .laz files will go into point clouds object\n",
    "base_obj=\"STAC_LiDAR/\"\n",
    "pc_obj=\"STAC_LiDAR/PointClouds/\"\n",
    "obj_list=[base_obj,pc_obj]\n",
    "\n",
    "for item in obj_list:\n",
    "    response = s3_client.list_objects_v2(Bucket=bucket, Prefix=item)\n",
    "    if 'Contents' in response:\n",
    "        for obj in response['Contents']:\n",
    "            if obj['Key'] == item:\n",
    "                print(f\"The object {item}' in bucket '{bucket}' exists.\")\n",
    "                break\n",
    "        else:\n",
    "            print(f\"The object {item}' in bucket '{bucket}' dose not exist, adding object\")\n",
    "            s3_client.put_object(Bucket=bucket, Key=item)\n",
    "\n",
    "\n",
    "# s3_client.put_object(Bucket=bucket, Key=pc_obj)"
   ]
  },
  {
   "cell_type": "code",
   "execution_count": 12,
   "metadata": {},
   "outputs": [],
   "source": [
    "# specify the folder path (in the current working directory) where objects are/will be\n",
    "# if the folder doesn't exist, create it\n",
    "save_path = (r'/home/cfolkers/STAC_LiDAR/PointClouds')\n",
    "if not os.path.exists(save_path):\n",
    "    os.makedirs(save_path)\n"
   ]
  },
  {
   "cell_type": "code",
   "execution_count": 16,
   "metadata": {},
   "outputs": [
    {
     "name": "stdout",
     "output_type": "stream",
     "text": [
      "Objects uploaded to folder 'STAC_LiDAR/PointClouds/' in bucket 'rczimv'.\n"
     ]
    }
   ],
   "source": [
    "# put .laz files into your object storage \"STAC_LiDAR/PointClouds/\"\n",
    "laz_list=os.listdir(save_path)\n",
    "\n",
    "for obj in laz_list:\n",
    "    obj_load=os.path.join(save_path,obj)\n",
    "    obj_key=pc_obj+obj\n",
    "    s3_client.upload_file(obj_load, Bucket=bucket, Key=obj_key)\n",
    "    \n",
    "print(f\"Objects uploaded to folder '{pc_obj}' in bucket '{bucket}'.\")\n"
   ]
  },
  {
   "cell_type": "code",
   "execution_count": 17,
   "metadata": {},
   "outputs": [
    {
     "name": "stdout",
     "output_type": "stream",
     "text": [
      "STAC_LiDAR/PointClouds/bc_092o018_3_2_4_xyes_12_utm10_2018.laz\n",
      "Object Size 23236093\n",
      "STAC_LiDAR/PointClouds/bc_092o018_3_4_2_xyes_12_utm10_2018.laz\n",
      "Object Size 140355729\n",
      "STAC_LiDAR/PointClouds/bc_092o018_3_4_4_xyes_12_utm10_2018.laz\n",
      "Object Size 50122462\n",
      "STAC_LiDAR/PointClouds/bc_092o018_4_1_3_xyes_12_utm10_2018.laz\n",
      "Object Size 95552259\n",
      "STAC_LiDAR/PointClouds/bc_092o018_4_1_4_xyes_12_utm10_2018.laz\n",
      "Object Size 336226672\n",
      "STAC_LiDAR/PointClouds/bc_092o018_4_3_1_xyes_12_utm10_2018.laz\n",
      "Object Size 315611463\n",
      "STAC_LiDAR/PointClouds/bc_092o018_4_3_2_xyes_12_utm10_2018.laz\n",
      "Object Size 354790466\n",
      "STAC_LiDAR/PointClouds/bc_092o018_4_3_3_xyes_12_utm10_2018.laz\n",
      "Object Size 312537985\n",
      "STAC_LiDAR/PointClouds/bc_092o018_4_3_4_xyes_12_utm10_2018.laz\n",
      "Object Size 332078905\n"
     ]
    }
   ],
   "source": [
    "#list .laz objects in bucket\n",
    "object_key=\"STAC_LiDAR/PointClouds/\"\n",
    "laz_objects=[]\n",
    "\n",
    "response = s3_client.list_objects_v2(Bucket=bucket, Prefix=object_key, StartAfter=object_key)\n",
    "\n",
    "if 'Contents' in response:\n",
    "    # Iterate over objects and print their names\n",
    "    for obj in response['Contents']:\n",
    "        laz_objects.append(obj['Key'])\n",
    "        print(obj['Key'])\n",
    "        print(f\"Object Size {obj['Size']}\")\n",
    "else:\n",
    "    print(\"No objects found in the bucket.\")"
   ]
  }
 ],
 "metadata": {
  "kernelspec": {
   "display_name": "Python 3",
   "language": "python",
   "name": "python3"
  },
  "language_info": {
   "codemirror_mode": {
    "name": "ipython",
    "version": 3
   },
   "file_extension": ".py",
   "mimetype": "text/x-python",
   "name": "python",
   "nbconvert_exporter": "python",
   "pygments_lexer": "ipython3",
   "version": "3.11.7"
  }
 },
 "nbformat": 4,
 "nbformat_minor": 2
}
