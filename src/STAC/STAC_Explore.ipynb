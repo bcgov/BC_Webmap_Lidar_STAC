{
 "cells": [
  {
   "cell_type": "markdown",
   "metadata": {},
   "source": [
    "# Explore the STAC\n",
    "\n",
    "followed tutorial from https://stacspec.org/en/tutorials/1-read-stac-python/"
   ]
  },
  {
   "cell_type": "code",
   "execution_count": 1,
   "metadata": {},
   "outputs": [],
   "source": [
    "import json\n",
    "\n",
    "from pystac import Catalog, get_stac_version\n",
    "from pystac.extensions.eo import EOExtension\n",
    "from pystac.extensions.label import LabelExtension"
   ]
  },
  {
   "cell_type": "code",
   "execution_count": 2,
   "metadata": {},
   "outputs": [],
   "source": [
    "# read catalog from file\n",
    "root_catalog=Catalog.from_file(r'https://nrs.objectstore.gov.bc.ca/cloudgistest/STAC_DEM/Catalog/DEM_Test.json')\n",
    "\n"
   ]
  },
  {
   "cell_type": "code",
   "execution_count": 3,
   "metadata": {},
   "outputs": [
    {
     "name": "stdout",
     "output_type": "stream",
     "text": [
      "* <Catalog id=DEM_Test>\n",
      "  * <Item id=bc_092o018_xli1m_utm10_2018_2_cog>\n",
      "  * <Item id=bc_092o018_xli1m_utm10_2018_cog>\n",
      "  * <Item id=bc_092o019_xli1m_utm10_2018_2_cog>\n",
      "  * <Item id=bc_092o019_xli1m_utm10_2018_cog>\n",
      "  * <Item id=bc_092o020_xli1m_utm10_2018_2_cog>\n",
      "  * <Item id=bc_092o020_xli1m_utm10_2018_cog>\n",
      "  * <Item id=bc_092o028_xli1m_utm10_2018_cog>\n",
      "  * <Item id=bc_092o029_xli1m_utm10_2019_cog>\n",
      "  * <Item id=bc_092o030_xli1m_utm10_2018_cog>\n"
     ]
    }
   ],
   "source": [
    "#high level info \n",
    "root_catalog.describe()"
   ]
  },
  {
   "cell_type": "code",
   "execution_count": 4,
   "metadata": {},
   "outputs": [
    {
     "name": "stdout",
     "output_type": "stream",
     "text": [
      "ID: DEM_Test\n",
      "Title: N/A\n",
      "Description: This catalog is a basic demonstration catalog utilizing using nine Digital Elevation Models, in the cloud optimized geotif(COG) format, that overlap with the point cloud test\n",
      "STAC Version: 1.0.0\n"
     ]
    }
   ],
   "source": [
    "# Print some basic metadata from the Catalog\n",
    "print(f\"ID: {root_catalog.id}\")\n",
    "print(f\"Title: {root_catalog.title or 'N/A'}\")\n",
    "print(f\"Description: {root_catalog.description or 'N/A'}\")\n",
    "print(f\"STAC Version: {get_stac_version()}\")"
   ]
  },
  {
   "cell_type": "code",
   "execution_count": 5,
   "metadata": {},
   "outputs": [
    {
     "name": "stdout",
     "output_type": "stream",
     "text": [
      "Number of collections: 0\n",
      "Collections IDs:\n"
     ]
    }
   ],
   "source": [
    "#Crawl STAC Child Catalogs and/or Collections\n",
    "\n",
    "#currently we do not have anything set up as a collection but the DEMs could be a collection and the pointclouds could be a collection \n",
    "collections = list(root_catalog.get_collections())\n",
    "\n",
    "print(f\"Number of collections: {len(collections)}\")\n",
    "print(\"Collections IDs:\")\n",
    "for collection in collections:\n",
    "    print(f\"- {collection.id}\")"
   ]
  },
  {
   "cell_type": "code",
   "execution_count": 6,
   "metadata": {},
   "outputs": [
    {
     "name": "stdout",
     "output_type": "stream",
     "text": [
      "Collection is Empty. Check your downloads and try agian.\n"
     ]
    }
   ],
   "source": [
    "collection = root_catalog.get_child(\"landsat-8-l1\")\n",
    "if collection is None:\n",
    "    print(\"Collection is Empty. Check your downloads and try agian.\")\n",
    "else:\n",
    "    print(\"Collection has a root child. You may proceed to the following steps.\")"
   ]
  },
  {
   "cell_type": "code",
   "execution_count": 7,
   "metadata": {},
   "outputs": [
    {
     "name": "stdout",
     "output_type": "stream",
     "text": [
      "Number of items: 9\n",
      "- bc_092o018_xli1m_utm10_2018_2_cog\n",
      "- bc_092o018_xli1m_utm10_2018_cog\n",
      "- bc_092o019_xli1m_utm10_2018_2_cog\n",
      "- bc_092o019_xli1m_utm10_2018_cog\n",
      "- bc_092o020_xli1m_utm10_2018_2_cog\n",
      "- bc_092o020_xli1m_utm10_2018_cog\n",
      "- bc_092o028_xli1m_utm10_2018_cog\n",
      "- bc_092o029_xli1m_utm10_2019_cog\n",
      "- bc_092o030_xli1m_utm10_2018_cog\n"
     ]
    }
   ],
   "source": [
    "#crawl stack items\n",
    "\n",
    "items = list(root_catalog.get_all_items())\n",
    "\n",
    "print(f\"Number of items: {len(items)}\")\n",
    "for item in items:\n",
    "    print(f\"- {item.id}\")"
   ]
  },
  {
   "cell_type": "code",
   "execution_count": 10,
   "metadata": {},
   "outputs": [],
   "source": [
    "#check metadata\n",
    "item = root_catalog.get_item(\"bc_092o030_xli1m_utm10_2018_cog\", recursive=True)"
   ]
  },
  {
   "cell_type": "code",
   "execution_count": 11,
   "metadata": {},
   "outputs": [
    {
     "data": {
      "text/plain": [
       "{'type': 'Polygon',\n",
       " 'coordinates': [[[555803.0, 5672369.0],\n",
       "   [555803.0, 5681181.0],\n",
       "   [559397.0, 5681181.0],\n",
       "   [559397.0, 5672369.0],\n",
       "   [555803.0, 5672369.0]]]}"
      ]
     },
     "execution_count": 11,
     "metadata": {},
     "output_type": "execute_result"
    }
   ],
   "source": [
    "#get geometry \n",
    "item.geometry\n"
   ]
  },
  {
   "cell_type": "code",
   "execution_count": 20,
   "metadata": {},
   "outputs": [
    {
     "name": "stdout",
     "output_type": "stream",
     "text": [
      "[555803.0, 5672369.0, 559397.0, 5681181.0]\n"
     ]
    }
   ],
   "source": [
    "#get bbox coords \n",
    "# may not have been entered correctly during stac creation \n",
    "print(item.bbox)"
   ]
  },
  {
   "cell_type": "code",
   "execution_count": 13,
   "metadata": {},
   "outputs": [
    {
     "data": {
      "text/plain": [
       "datetime.datetime(2024, 5, 30, 15, 58, 10, 144257, tzinfo=tzutc())"
      ]
     },
     "execution_count": 13,
     "metadata": {},
     "output_type": "execute_result"
    }
   ],
   "source": [
    "#date time\n",
    "# also not entered correctly \n",
    "item.datetime"
   ]
  },
  {
   "cell_type": "code",
   "execution_count": 19,
   "metadata": {},
   "outputs": [
    {
     "name": "stdout",
     "output_type": "stream",
     "text": [
      "None\n"
     ]
    }
   ],
   "source": [
    "#view collection item is a part of \n",
    "print(item.collection_id)\n",
    "#or use Item.get_collection"
   ]
  },
  {
   "cell_type": "code",
   "execution_count": 21,
   "metadata": {},
   "outputs": [
    {
     "name": "stdout",
     "output_type": "stream",
     "text": [
      "None\n"
     ]
    }
   ],
   "source": [
    "# common metadata and extenions \n",
    "# currently we have no common metadata or extensions on this catalog \n",
    "print(item.common_metadata.instruments)"
   ]
  },
  {
   "cell_type": "code",
   "execution_count": 22,
   "metadata": {},
   "outputs": [
    {
     "name": "stdout",
     "output_type": "stream",
     "text": [
      "None\n"
     ]
    }
   ],
   "source": [
    "print(item.common_metadata.platform)"
   ]
  },
  {
   "cell_type": "code",
   "execution_count": 23,
   "metadata": {},
   "outputs": [
    {
     "name": "stdout",
     "output_type": "stream",
     "text": [
      "None\n"
     ]
    }
   ],
   "source": [
    "print(item.common_metadata.gsd)"
   ]
  },
  {
   "cell_type": "code",
   "execution_count": 24,
   "metadata": {},
   "outputs": [
    {
     "name": "stdout",
     "output_type": "stream",
     "text": [
      "[]\n"
     ]
    }
   ],
   "source": [
    "print(item.stac_extensions)"
   ]
  },
  {
   "cell_type": "code",
   "execution_count": 25,
   "metadata": {},
   "outputs": [
    {
     "data": {
      "text/plain": [
       "False"
      ]
     },
     "execution_count": 25,
     "metadata": {},
     "output_type": "execute_result"
    }
   ],
   "source": [
    "EOExtension.has_extension(item)"
   ]
  },
  {
   "cell_type": "code",
   "execution_count": 26,
   "metadata": {},
   "outputs": [
    {
     "data": {
      "text/plain": [
       "False"
      ]
     },
     "execution_count": 26,
     "metadata": {},
     "output_type": "execute_result"
    }
   ],
   "source": [
    "LabelExtension.has_extension(item)"
   ]
  },
  {
   "cell_type": "code",
   "execution_count": 27,
   "metadata": {},
   "outputs": [
    {
     "name": "stdout",
     "output_type": "stream",
     "text": [
      "bc_092o030_xli1m_utm10_2018_cog: https://nrs.objectstore.gov.bc.ca/cloudgistest/STAC_DEM/Data/bc_092o030_xli1m_utm10_2018_cog.tif (image/tiff; application=geotiff; profile=cloud-optimized)\n"
     ]
    }
   ],
   "source": [
    "#Access STAC Item's Assets\n",
    "for asset_key in item.assets:\n",
    "    asset = item.assets[asset_key]\n",
    "    print('{}: {} ({})'.format(asset_key, asset.href, asset.media_type))"
   ]
  }
 ],
 "metadata": {
  "kernelspec": {
   "display_name": "stac_tools",
   "language": "python",
   "name": "python3"
  },
  "language_info": {
   "codemirror_mode": {
    "name": "ipython",
    "version": 3
   },
   "file_extension": ".py",
   "mimetype": "text/x-python",
   "name": "python",
   "nbconvert_exporter": "python",
   "pygments_lexer": "ipython3",
   "version": "3.11.7"
  }
 },
 "nbformat": 4,
 "nbformat_minor": 2
}
