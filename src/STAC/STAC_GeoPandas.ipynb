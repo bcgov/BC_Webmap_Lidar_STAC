{
 "cells": [
  {
   "cell_type": "code",
   "execution_count": 4,
   "metadata": {},
   "outputs": [],
   "source": [
    "import pandas as pd\n",
    "import geopandas\n",
    "import pystac_client"
   ]
  },
  {
   "cell_type": "code",
   "execution_count": 2,
   "metadata": {},
   "outputs": [],
   "source": [
    "def from_items(item_collection):\n",
    "    gdf = geopandas.GeoDataFrame.from_features(item_collection.to_dict()[\"features\"]).set_crs(4326)\n",
    "    gdf[\"datetime\"] = pd.to_datetime(gdf.datetime)\n",
    "    gdf[\"id\"] = [x.id for x in item_collection]\n",
    "    return gdf\n",
    "\n",
    "\n",
    "def filter_bbox(gdf, bbox):\n",
    "    return gdf.cx[bbox[0]:bbox[2], bbox[1]:bbox[3]]\n",
    "\n",
    "\n",
    "def filter_geometry(gdf, geometry):\n",
    "    return gdf[gdf.covers(geometry)]\n",
    "\n",
    "\n",
    "def filter_datetime(gdf, start_datetime, end_datetime):\n",
    "    return gdf[(gdf[\"datetime\"] >= start_datetime) & (gdf[\"datetime\"] < end_datetime)]"
   ]
  },
  {
   "cell_type": "code",
   "execution_count": 5,
   "metadata": {},
   "outputs": [
    {
     "name": "stderr",
     "output_type": "stream",
     "text": [
      "/home/cfolkers/miniforge3/envs/stac_tools/lib/python3.11/site-packages/pystac_client/client.py:186: NoConformsTo: Server does not advertise any conformance classes.\n",
      "  warnings.warn(NoConformsTo())\n"
     ]
    }
   ],
   "source": [
    "client = pystac_client.Client.open(r\"https://nrs.objectstore.gov.bc.ca/cloudgistest/STAC_DEM/Catalog/DEM_Test.json\")"
   ]
  },
  {
   "cell_type": "code",
   "execution_count": 8,
   "metadata": {},
   "outputs": [],
   "source": [
    "# read AOI\n",
    "aoi=geopandas.read_file(r\"/home/cfolkers/STAC_LiDAR/test_aoi/aoi.gpkg\", layer='aoi', driver=\"GPKG\")"
   ]
  },
  {
   "cell_type": "code",
   "execution_count": 9,
   "metadata": {},
   "outputs": [
    {
     "name": "stderr",
     "output_type": "stream",
     "text": [
      "/home/cfolkers/miniforge3/envs/stac_tools/lib/python3.11/site-packages/pystac_client/client.py:186: NoConformsTo: Server does not advertise any conformance classes.\n",
      "  warnings.warn(NoConformsTo())\n"
     ]
    }
   ],
   "source": [
    "catalog = pystac_client.Client.open(r\"https://nrs.objectstore.gov.bc.ca/cloudgistest/STAC_DEM/Catalog/DEM_Test.json\")"
   ]
  },
  {
   "cell_type": "code",
   "execution_count": 10,
   "metadata": {},
   "outputs": [
    {
     "ename": "DoesNotConformTo",
     "evalue": "Server does not conform to ITEM_SEARCH, There is not fallback option available for search.",
     "output_type": "error",
     "traceback": [
      "\u001b[0;31m---------------------------------------------------------------------------\u001b[0m",
      "\u001b[0;31mDoesNotConformTo\u001b[0m                          Traceback (most recent call last)",
      "Cell \u001b[0;32mIn[10], line 1\u001b[0m\n\u001b[0;32m----> 1\u001b[0m search \u001b[38;5;241m=\u001b[39m \u001b[43mcatalog\u001b[49m\u001b[38;5;241;43m.\u001b[39;49m\u001b[43msearch\u001b[49m\u001b[43m(\u001b[49m\u001b[43mintersects\u001b[49m\u001b[38;5;241;43m=\u001b[39;49m\u001b[43maoi\u001b[49m\u001b[43m)\u001b[49m\n",
      "File \u001b[0;32m~/miniforge3/envs/stac_tools/lib/python3.11/site-packages/pystac_client/client.py:591\u001b[0m, in \u001b[0;36mClient.search\u001b[0;34m(self, method, max_items, limit, ids, collections, bbox, intersects, datetime, query, filter, filter_lang, sortby, fields)\u001b[0m\n\u001b[1;32m    489\u001b[0m \u001b[38;5;250m\u001b[39m\u001b[38;5;124;03m\"\"\"Query the ``/search`` endpoint using the given parameters.\u001b[39;00m\n\u001b[1;32m    490\u001b[0m \n\u001b[1;32m    491\u001b[0m \u001b[38;5;124;03mThis method returns an :class:`~pystac_client.ItemSearch` instance. See that\u001b[39;00m\n\u001b[0;32m   (...)\u001b[0m\n\u001b[1;32m    587\u001b[0m \u001b[38;5;124;03m        a ``\"rel\"`` type of ``\"search\"``.\u001b[39;00m\n\u001b[1;32m    588\u001b[0m \u001b[38;5;124;03m\"\"\"\u001b[39;00m\n\u001b[1;32m    590\u001b[0m \u001b[38;5;28;01mif\u001b[39;00m \u001b[38;5;129;01mnot\u001b[39;00m \u001b[38;5;28mself\u001b[39m\u001b[38;5;241m.\u001b[39mconforms_to(ConformanceClasses\u001b[38;5;241m.\u001b[39mITEM_SEARCH):\n\u001b[0;32m--> 591\u001b[0m     \u001b[38;5;28;01mraise\u001b[39;00m DoesNotConformTo(\n\u001b[1;32m    592\u001b[0m         \u001b[38;5;124m\"\u001b[39m\u001b[38;5;124mITEM_SEARCH\u001b[39m\u001b[38;5;124m\"\u001b[39m, \u001b[38;5;124m\"\u001b[39m\u001b[38;5;124mThere is not fallback option available for search.\u001b[39m\u001b[38;5;124m\"\u001b[39m\n\u001b[1;32m    593\u001b[0m     )\n\u001b[1;32m    595\u001b[0m \u001b[38;5;28;01mreturn\u001b[39;00m ItemSearch(\n\u001b[1;32m    596\u001b[0m     url\u001b[38;5;241m=\u001b[39m\u001b[38;5;28mself\u001b[39m\u001b[38;5;241m.\u001b[39m_search_href(),\n\u001b[1;32m    597\u001b[0m     method\u001b[38;5;241m=\u001b[39mmethod,\n\u001b[0;32m   (...)\u001b[0m\n\u001b[1;32m    611\u001b[0m     modifier\u001b[38;5;241m=\u001b[39m\u001b[38;5;28mself\u001b[39m\u001b[38;5;241m.\u001b[39mmodifier,\n\u001b[1;32m    612\u001b[0m )\n",
      "\u001b[0;31mDoesNotConformTo\u001b[0m: Server does not conform to ITEM_SEARCH, There is not fallback option available for search."
     ]
    }
   ],
   "source": [
    "search = catalog.search(intersects=aoi)"
   ]
  }
 ],
 "metadata": {
  "kernelspec": {
   "display_name": "stac_tools",
   "language": "python",
   "name": "python3"
  },
  "language_info": {
   "codemirror_mode": {
    "name": "ipython",
    "version": 3
   },
   "file_extension": ".py",
   "mimetype": "text/x-python",
   "name": "python",
   "nbconvert_exporter": "python",
   "pygments_lexer": "ipython3",
   "version": "3.11.7"
  }
 },
 "nbformat": 4,
 "nbformat_minor": 2
}
