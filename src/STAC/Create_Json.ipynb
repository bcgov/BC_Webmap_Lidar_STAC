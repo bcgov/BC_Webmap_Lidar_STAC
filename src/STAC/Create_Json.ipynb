{
 "cells": [
  {
   "cell_type": "markdown",
   "metadata": {},
   "source": [
    "# Create JSON from PDAL For STAC\n",
    "CFolkers\n",
    "Geospatial Services \n",
    "2024 02 12\n",
    "\n",
    "modified from https://github.com/stac-extensions/pointcloud/blob/main/examples/pdal-to-stac.py"
   ]
  },
  {
   "cell_type": "markdown",
   "metadata": {},
   "source": [
    "# Further Updates\n",
    "- instead of downloading .laz files then using PDAL, use PDAL to directly access ,laz files in S3"
   ]
  },
  {
   "cell_type": "code",
   "execution_count": 1,
   "metadata": {},
   "outputs": [
    {
     "name": "stdout",
     "output_type": "stream",
     "text": [
      "loading dot env...\n"
     ]
    }
   ],
   "source": [
    "import sys\n",
    "import logging\n",
    "import constants\n",
    "import boto3\n",
    "from botocore.exceptions import ClientError\n",
    "import os\n",
    "from os import path\n",
    "from pathlib import Path\n",
    "import pystac \n",
    "import pdal\n",
    "from osgeo import ogr\n",
    "from osgeo import osr\n",
    "import json\n",
    "from osgeo import ogr, osr\n"
   ]
  },
  {
   "cell_type": "code",
   "execution_count": 10,
   "metadata": {},
   "outputs": [],
   "source": [
    "#list .laz objects in bucket\n",
    "object_key=r'STAC_LiDAR/PointClouds/'\n",
    "#pdal .laz download loc- \n",
    "download_loc=r'STAC_LiDAR/Download'\n",
    "#s3 storage location for json files\n",
    "json_out_loc=r'STAC_LiDAR/JSON/'"
   ]
  },
  {
   "cell_type": "code",
   "execution_count": 3,
   "metadata": {},
   "outputs": [],
   "source": [
    "# use third party object storage to create an S3 Client\n",
    "s3_client = boto3.client(\n",
    "    \"s3\",\n",
    "    endpoint_url=constants.AWS_S3_ENDPOINT,\n",
    "    aws_access_key_id=constants.AWS_ACCESS_KEY_ID,\n",
    "    aws_secret_access_key=constants.AWS_SECRET_ACCESS_KEY,\n",
    ")\n",
    "# for some reason the bucket is adding an extra letter at the end???\n",
    "bucket = constants.AWS_S3_BUCKET"
   ]
  },
  {
   "cell_type": "code",
   "execution_count": 4,
   "metadata": {},
   "outputs": [
    {
     "name": "stdout",
     "output_type": "stream",
     "text": [
      "STAC_LiDAR/PointClouds/bc_092o018_3_2_4_xyes_12_utm10_2018.laz\n",
      "Object Size 23236093\n",
      "STAC_LiDAR/PointClouds/bc_092o018_3_4_2_xyes_12_utm10_2018.laz\n",
      "Object Size 140355729\n",
      "STAC_LiDAR/PointClouds/bc_092o018_3_4_4_xyes_12_utm10_2018.laz\n",
      "Object Size 50122462\n",
      "STAC_LiDAR/PointClouds/bc_092o018_4_1_3_xyes_12_utm10_2018.laz\n",
      "Object Size 95552259\n",
      "STAC_LiDAR/PointClouds/bc_092o018_4_1_4_xyes_12_utm10_2018.laz\n",
      "Object Size 336226672\n",
      "STAC_LiDAR/PointClouds/bc_092o018_4_3_1_xyes_12_utm10_2018.laz\n",
      "Object Size 315611463\n",
      "STAC_LiDAR/PointClouds/bc_092o018_4_3_2_xyes_12_utm10_2018.laz\n",
      "Object Size 354790466\n",
      "STAC_LiDAR/PointClouds/bc_092o018_4_3_3_xyes_12_utm10_2018.laz\n",
      "Object Size 312537985\n",
      "STAC_LiDAR/PointClouds/bc_092o018_4_3_4_xyes_12_utm10_2018.laz\n",
      "Object Size 332078905\n"
     ]
    }
   ],
   "source": [
    "laz_objects=[]\n",
    "\n",
    "response = s3_client.list_objects_v2(Bucket=bucket, Prefix=object_key, StartAfter=object_key)\n",
    "\n",
    "if 'Contents' in response:\n",
    "    # Iterate over objects and print their names\n",
    "    for obj in response['Contents']:\n",
    "        laz_objects.append(obj['Key'])\n",
    "        print(obj['Key'])\n",
    "        print(f\"Object Size {obj['Size']}\")\n",
    "else:\n",
    "    print(\"No objects found in the bucket.\")"
   ]
  },
  {
   "cell_type": "code",
   "execution_count": 5,
   "metadata": {},
   "outputs": [],
   "source": [
    "def capture_date(pdalinfo):\n",
    "    import datetime\n",
    "    year = pdalinfo['creation_year']\n",
    "    day = pdalinfo['creation_doy']\n",
    "    date = datetime.datetime(int(year), 1, 1) + datetime.timedelta(int(day) - 1 if int(day) > 1 else int(day))\n",
    "    return date.isoformat()+'Z'\n",
    "\n",
    "def convertGeometry(geom, srs, crs):\n",
    "    in_ref = osr.SpatialReference()\n",
    "    in_ref.SetFromUserInput(srs)\n",
    "    out_ref = osr.SpatialReference()\n",
    "    out_ref.SetFromUserInput(crs)\n",
    "\n",
    "    g = ogr.CreateGeometryFromJson(json.dumps(geom))\n",
    "    g.AssignSpatialReference(in_ref)\n",
    "    g.TransformTo(out_ref)\n",
    "    return json.loads(g.ExportToJson())\n",
    "\n",
    "\n",
    "def convertBBox(obj):\n",
    "    output = []\n",
    "    output.append(float(obj['minx']))\n",
    "    output.append(float(obj['miny']))\n",
    "    output.append(float(obj['minz']))\n",
    "    output.append(float(obj['maxx']))\n",
    "    output.append(float(obj['maxy']))\n",
    "    output.append(float(obj['maxz']))\n",
    "    return output"
   ]
  },
  {
   "cell_type": "code",
   "execution_count": 8,
   "metadata": {},
   "outputs": [
    {
     "name": "stderr",
     "output_type": "stream",
     "text": [
      "/home/cfolkers/miniforge3/envs/stac_tools/lib/python3.11/site-packages/osgeo/osr.py:410: FutureWarning: Neither osr.UseExceptions() nor osr.DontUseExceptions() has been explicitly called. In GDAL 4.0, exceptions will be enabled by default.\n",
      "  warnings.warn(\n"
     ]
    },
    {
     "name": "stdout",
     "output_type": "stream",
     "text": [
      "STAC_LiDAR/JSON/bc_092o018_3_2_4_xyes_12_utm10_2018.json\n",
      "STAC_LiDAR/JSON/bc_092o018_3_4_2_xyes_12_utm10_2018.json\n",
      "STAC_LiDAR/JSON/bc_092o018_3_4_4_xyes_12_utm10_2018.json\n",
      "STAC_LiDAR/JSON/bc_092o018_4_1_3_xyes_12_utm10_2018.json\n",
      "STAC_LiDAR/JSON/bc_092o018_4_1_4_xyes_12_utm10_2018.json\n",
      "STAC_LiDAR/JSON/bc_092o018_4_3_1_xyes_12_utm10_2018.json\n",
      "STAC_LiDAR/JSON/bc_092o018_4_3_2_xyes_12_utm10_2018.json\n",
      "STAC_LiDAR/JSON/bc_092o018_4_3_3_xyes_12_utm10_2018.json\n",
      "STAC_LiDAR/JSON/bc_092o018_4_3_4_xyes_12_utm10_2018.json\n"
     ]
    }
   ],
   "source": [
    "#download .laz files and read the headers\n",
    "\n",
    "\n",
    "for laz in laz_objects:\n",
    "    output = {}\n",
    "    \n",
    "    laz_download=f\"{download_loc}{laz.split('/')[-1]}\"\n",
    "    download_object=f\"{object_key}{laz.split('/')[-1]}\"\n",
    "    \n",
    "    if not os.path.exists(laz_download):   \n",
    "        s3_client.download_file(bucket, download_object, laz_download)\n",
    "    \n",
    "    \n",
    "    # fix WKT \n",
    "    filename = laz_download\n",
    "    with open(filename, \"rb+\") as f:\n",
    "        f.seek(6)\n",
    "        f.write(bytes([17, 0, 0, 0]))\n",
    "    \n",
    "    #start pdal pipline\n",
    "    r = pdal.Reader.las(laz_download)\n",
    "    hb = pdal.Filter.hexbin()\n",
    "    s = pdal.Filter.stats()\n",
    "    i = pdal.Filter.info()\n",
    "\n",
    "    pipeline: pdal.Pipeline = r | hb | s | i\n",
    "\n",
    "    count = pipeline.execute()\n",
    "\n",
    "    boundary = pipeline.metadata['metadata'][hb.type]\n",
    "    stats = pipeline.metadata['metadata'][s.type]\n",
    "    info = pipeline.metadata['metadata'][i.type]\n",
    "    copc = pipeline.metadata['metadata'][r.type]\n",
    "    \n",
    "    if copc['comp_spatialreference'] == '':\n",
    "        if 'utm08' in filename or 'utm8' in filename:\n",
    "            copc['comp_spatialreference'] = 'EPSG:26708'\n",
    "            srs='EPSG:26708'\n",
    "        elif 'utm09' in filename or 'utm9' in filename:\n",
    "            copc['comp_spatialreference'] = 'EPSG:26709'\n",
    "            srs= 'EPSG:26709'\n",
    "        elif 'utm10' in filename:\n",
    "            copc['comp_spatialreference'] = 'EPSG:26910'\n",
    "            srs= 'EPSG:26910'\n",
    "        elif 'utm11' in filename:\n",
    "            copc['comp_spatialreference'] = 'EPSG:26711'\n",
    "            srs= 'EPSG:26711'\n",
    "        elif 'utm12' in filename:\n",
    "            copc['comp_spatialreference'] = 'EPSG:26711'\n",
    "            srs= 'EPSG:26711'\n",
    "    \n",
    "    try:\n",
    "        output['geometry'] = convertGeometry(\n",
    "        boundary['boundary_json'],\n",
    "        copc['comp_spatialreference'],\n",
    "        srs\n",
    "        )\n",
    "    except KeyError:\n",
    "        output['geometry'] = stats['bbox'][srs]['boundary']\n",
    "\n",
    "    output['bbox'] = convertBBox(stats['bbox']['native']['bbox'])\n",
    "    output['id'] = path.basename(filename)\n",
    "    output['type'] = 'Feature'\n",
    "    assets = {'data': {'href': filename}}\n",
    "    \n",
    "    properties = {}\n",
    "\n",
    "    properties['pc:schemas'] = info['schema']['dimensions']\n",
    "    properties['pc:statistics'] = stats['statistic']\n",
    "    properties['title'] = \"LiDAR BC\"\n",
    "    properties['providers'] = [\n",
    "        {\n",
    "            \"name\": \"LidarBC\",\n",
    "            \"description\": \"LidarBC is an initiative to provide open public access to Light Detection and Ranging data (LiDAR) and associated datasets collected by the Government of British Columbia.\",\n",
    "            \"roles\": [\n",
    "            \"producer\",\n",
    "            ],\n",
    "            \"url\": \"https://lidar.gov.bc.ca/\"\n",
    "        }\n",
    "    ]\n",
    "    properties['pc:type'] = 'lidar' # eopc, lidar, radar, sonar\n",
    "    properties['pc:epsg'] = srs.split(':')[-1]\n",
    "\n",
    "    try:\n",
    "        properties['pc:density'] = boundary['avg_pt_per_sq_unit']\n",
    "    except KeyError:\n",
    "        properties['pc:density'] = 0\n",
    "    properties['pc:count'] = count\n",
    "\n",
    "    properties['datetime'] = capture_date(copc)\n",
    "\n",
    "    output['properties'] = properties\n",
    "    output['assets'] = assets\n",
    "    output['stac_extensions'] = ['https://stac-extensions.github.io/pointcloud/v1.0.0/schema.json']\n",
    "    output['stac_version'] = '1.0.0'\n",
    "\n",
    "    \n",
    "    out_filename = str(f\"{json_out_loc}{laz.split('/')[-1].replace('.laz','.json')}\")\n",
    "    print(out_filename)\n",
    "    \n",
    "    \n",
    "    self_link = {'rel':'self',\"href\":'./example-autzen.json'}\n",
    "    lic_link = {'rel':'license',\"href\":'https://github.com/PDAL/data/blob/master/LICENSE'}\n",
    "    output['links'] = [self_link, lic_link]\n",
    "    \n",
    "    s3_client.put_object(\n",
    "        Body=json.dumps(output, sort_keys=True, indent=2, separators=(',', ': ')), \n",
    "        Bucket=bucket,\n",
    "        Key= out_filename\n",
    "    )"
   ]
  },
  {
   "cell_type": "code",
   "execution_count": 9,
   "metadata": {},
   "outputs": [
    {
     "name": "stdout",
     "output_type": "stream",
     "text": [
      "STAC_LiDAR/JSON/bc_092o018_3_2_4_xyes_12_utm10_2018.json\n",
      "Object Size 8613\n",
      "STAC_LiDAR/JSON/bc_092o018_3_4_2_xyes_12_utm10_2018.json\n",
      "Object Size 9958\n",
      "STAC_LiDAR/JSON/bc_092o018_3_4_4_xyes_12_utm10_2018.json\n",
      "Object Size 9234\n",
      "STAC_LiDAR/JSON/bc_092o018_4_1_3_xyes_12_utm10_2018.json\n",
      "Object Size 10496\n",
      "STAC_LiDAR/JSON/bc_092o018_4_1_4_xyes_12_utm10_2018.json\n",
      "Object Size 7724\n",
      "STAC_LiDAR/JSON/bc_092o018_4_3_1_xyes_12_utm10_2018.json\n",
      "Object Size 7735\n",
      "STAC_LiDAR/JSON/bc_092o018_4_3_2_xyes_12_utm10_2018.json\n",
      "Object Size 7362\n",
      "STAC_LiDAR/JSON/bc_092o018_4_3_3_xyes_12_utm10_2018.json\n",
      "Object Size 8684\n",
      "STAC_LiDAR/JSON/bc_092o018_4_3_4_xyes_12_utm10_2018.json\n",
      "Object Size 7514\n"
     ]
    }
   ],
   "source": [
    "response = s3_client.list_objects_v2(Bucket=bucket, Prefix=json_out_loc, StartAfter=json_out_loc)\n",
    "\n",
    "if 'Contents' in response:\n",
    "    # Iterate over objects and print their names\n",
    "    for obj in response['Contents']:\n",
    "        laz_objects.append(obj['Key'])\n",
    "        print(obj['Key'])\n",
    "        print(f\"Object Size {obj['Size']}\")\n",
    "else:\n",
    "    print(\"No objects found in the bucket.\")"
   ]
  }
 ],
 "metadata": {
  "kernelspec": {
   "display_name": "stac_tools",
   "language": "python",
   "name": "python3"
  },
  "language_info": {
   "codemirror_mode": {
    "name": "ipython",
    "version": 3
   },
   "file_extension": ".py",
   "mimetype": "text/x-python",
   "name": "python",
   "nbconvert_exporter": "python",
   "pygments_lexer": "ipython3",
   "version": "3.11.7"
  }
 },
 "nbformat": 4,
 "nbformat_minor": 2
}
