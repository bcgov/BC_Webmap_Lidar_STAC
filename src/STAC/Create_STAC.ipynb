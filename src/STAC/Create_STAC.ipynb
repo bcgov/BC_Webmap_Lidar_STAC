{
 "cells": [
  {
   "cell_type": "markdown",
   "metadata": {},
   "source": [
    "# Create STAC Catalog of .laz Files\n",
    "CFolkers\n",
    "Geospatial Services \n",
    "2024 03 04\n",
    "\n",
    "Resources: https://github.com/stac-utils/pystac/blob/8079dd3c0cbe8f6f9e48f499ea90f6a5798eaeab/docs/tutorials/how-to-create-stac-catalogs.ipynb\n",
    "https://stacspec.org/en/tutorials/2-create-stac-catalog-python/\n",
    "https://github.com/stac-utils/pystac/blob/main/tests/extensions/test_pointcloud.py\n",
    "https://pystac.readthedocs.io/en/latest/api/extensions/pointcloud.html"
   ]
  },
  {
   "cell_type": "code",
   "execution_count": 75,
   "metadata": {},
   "outputs": [],
   "source": [
    "import os \n",
    "import pystac\n",
    "from pystac import Link\n",
    "from pystac.stac_io import DefaultStacIO\n",
    "from pystac.extensions.pointcloud import (\n",
    "    AssetPointcloudExtension,\n",
    "    PhenomenologyType,\n",
    "    PointcloudExtension,\n",
    "    Schema,\n",
    "    SchemaType,\n",
    "    Statistic,\n",
    ")\n",
    "from botocore import UNSIGNED\n",
    "from botocore.config import Config\n",
    "import boto3\n",
    "import constants\n",
    "import os\n",
    "import urllib.request\n",
    "import json\n",
    "from typing import Union, Any\n",
    "from urllib.parse import urlparse\n",
    "from shapely.geometry import Polygon, mapping,shape, MultiPolygon\n",
    "\n",
    "from datetime import datetime"
   ]
  },
  {
   "cell_type": "code",
   "execution_count": 2,
   "metadata": {},
   "outputs": [],
   "source": [
    "#list .laz objects in bucket\n",
    "object_key=r'STAC_LiDAR/PointClouds/'\n",
    "#s3 storage location for json files\n",
    "json_key=r'STAC_LiDAR/JSON/'"
   ]
  },
  {
   "cell_type": "code",
   "execution_count": 3,
   "metadata": {},
   "outputs": [],
   "source": [
    "# use third party object storage to create an S3 Client\n",
    "s3_client = boto3.client(\n",
    "    \"s3\",\n",
    "    endpoint_url=constants.AWS_S3_ENDPOINT,\n",
    "    aws_access_key_id=constants.AWS_ACCESS_KEY_ID,\n",
    "    aws_secret_access_key=constants.AWS_SECRET_ACCESS_KEY,\n",
    ")\n",
    "# for some reason the bucket is adding an extra letter at the end???\n",
    "test_bucket = constants.AWS_S3_BUCKET"
   ]
  },
  {
   "cell_type": "code",
   "execution_count": 4,
   "metadata": {},
   "outputs": [],
   "source": [
    "#may not be needed \n",
    "\n",
    "class CustomStacIO(DefaultStacIO):\n",
    "    def __init__(self):\n",
    "        self.s3_client = boto3.resource(\"s3\")\n",
    "        super().__init__()\n",
    "\n",
    "    def read_text(self, source: Union[str, Link], *args: Any, **kwargs: Any) -> str:\n",
    "        parsed = urlparse(source)\n",
    "        if parsed.scheme == \"s3\":\n",
    "            bucket = parsed.netloc\n",
    "            key = parsed.path[1:]\n",
    "\n",
    "            obj = self.s3_client.Object(bucket, key)\n",
    "            return obj.get()[\"Body\"].read().decode(\"utf-8\")\n",
    "        else:\n",
    "            return super().read_text(source, *args, **kwargs)\n",
    "\n",
    "    def write_text(\n",
    "        self, dest: Union[str, Link], txt: str, *args: Any, **kwargs: Any\n",
    "    ) -> None:\n",
    "        parsed = urlparse(dest)\n",
    "        if parsed.scheme == \"s3\":\n",
    "            bucket = parsed.netloc\n",
    "            key = parsed.path[1:]\n",
    "            self.s3_client.Object(bucket, key).put(Body=txt, ContentEncoding=\"utf-8\")\n",
    "        else:\n",
    "            super().write_text(dest, txt, *args, **kwargs)\n"
   ]
  },
  {
   "cell_type": "code",
   "execution_count": 55,
   "metadata": {},
   "outputs": [
    {
     "name": "stdout",
     "output_type": "stream",
     "text": [
      "{0: {'STAC_LiDAR/PointClouds/bc_092o018_3_2_4_xyes_12_utm10_2018.laz': 'STAC_LiDAR/JSON/bc_092o018_3_2_4_xyes_12_utm10_2018.json'}, 1: {'STAC_LiDAR/PointClouds/bc_092o018_3_4_2_xyes_12_utm10_2018.laz': 'STAC_LiDAR/JSON/bc_092o018_3_4_2_xyes_12_utm10_2018.json'}, 2: {'STAC_LiDAR/PointClouds/bc_092o018_3_4_4_xyes_12_utm10_2018.laz': 'STAC_LiDAR/JSON/bc_092o018_3_4_4_xyes_12_utm10_2018.json'}, 3: {'STAC_LiDAR/PointClouds/bc_092o018_4_1_3_xyes_12_utm10_2018.laz': 'STAC_LiDAR/JSON/bc_092o018_4_1_3_xyes_12_utm10_2018.json'}, 4: {'STAC_LiDAR/PointClouds/bc_092o018_4_1_4_xyes_12_utm10_2018.laz': 'STAC_LiDAR/JSON/bc_092o018_4_1_4_xyes_12_utm10_2018.json'}, 5: {'STAC_LiDAR/PointClouds/bc_092o018_4_3_1_xyes_12_utm10_2018.laz': 'STAC_LiDAR/JSON/bc_092o018_4_3_1_xyes_12_utm10_2018.json'}, 6: {'STAC_LiDAR/PointClouds/bc_092o018_4_3_2_xyes_12_utm10_2018.laz': 'STAC_LiDAR/JSON/bc_092o018_4_3_2_xyes_12_utm10_2018.json'}, 7: {'STAC_LiDAR/PointClouds/bc_092o018_4_3_3_xyes_12_utm10_2018.laz': 'STAC_LiDAR/JSON/bc_092o018_4_3_3_xyes_12_utm10_2018.json'}, 8: {'STAC_LiDAR/PointClouds/bc_092o018_4_3_4_xyes_12_utm10_2018.laz': 'STAC_LiDAR/JSON/bc_092o018_4_3_4_xyes_12_utm10_2018.json'}}\n"
     ]
    }
   ],
   "source": [
    "#need more dynamic way to create dictionary in case there things are not in order, or missing values \n",
    "# also not sure which dict I can keep\n",
    "#laz dict returns a dict of s3 locations for laz:json, maybe do this the same as below dict of dict with index as first key, then laz:json?\n",
    "#laz_items_id returns a dict of dicts of index_num:{'type':stac location}\n",
    "\n",
    "laz_dict={}\n",
    "\n",
    "laz_response = s3_client.list_objects_v2(Bucket=test_bucket, Prefix=object_key, StartAfter=object_key)\n",
    "json_repsone= s3_client.list_objects_v2(Bucket=test_bucket, Prefix=json_key, StartAfter=json_key)\n",
    "\n",
    "if 'Contents' in laz_response and 'Contents' in json_repsone:\n",
    "    # Iterate over objects and print their names\n",
    "    for index, (key, value) in enumerate(zip(laz_response['Contents'],json_repsone['Contents'])):\n",
    "        laz_dict[index]={key['Key']:value['Key']}\n",
    "else:\n",
    "    print(\"No objects found in the bucket.\")\n",
    "print(laz_dict)"
   ]
  },
  {
   "cell_type": "code",
   "execution_count": 87,
   "metadata": {},
   "outputs": [
    {
     "name": "stdout",
     "output_type": "stream",
     "text": [
      "Processing STAC_LiDAR/PointClouds/bc_092o018_3_2_4_xyes_12_utm10_2018.laz\n",
      "[{'name': 'X', 'size': 8, 'type': 'floating'}, {'name': 'Y', 'size': 8, 'type': 'floating'}, {'name': 'Z', 'size': 8, 'type': 'floating'}, {'name': 'Intensity', 'size': 2, 'type': 'unsigned'}, {'name': 'ReturnNumber', 'size': 1, 'type': 'unsigned'}, {'name': 'NumberOfReturns', 'size': 1, 'type': 'unsigned'}, {'name': 'ScanDirectionFlag', 'size': 1, 'type': 'unsigned'}, {'name': 'EdgeOfFlightLine', 'size': 1, 'type': 'unsigned'}, {'name': 'Classification', 'size': 1, 'type': 'unsigned'}, {'name': 'Synthetic', 'size': 1, 'type': 'unsigned'}, {'name': 'KeyPoint', 'size': 1, 'type': 'unsigned'}, {'name': 'Withheld', 'size': 1, 'type': 'unsigned'}, {'name': 'Overlap', 'size': 1, 'type': 'unsigned'}, {'name': 'ScanAngleRank', 'size': 4, 'type': 'floating'}, {'name': 'UserData', 'size': 1, 'type': 'unsigned'}, {'name': 'PointSourceId', 'size': 2, 'type': 'unsigned'}, {'name': 'GpsTime', 'size': 8, 'type': 'floating'}]\n"
     ]
    },
    {
     "ename": "TypeError",
     "evalue": "PointcloudExtension.apply() missing 1 required positional argument: 'schemas'",
     "output_type": "error",
     "traceback": [
      "\u001b[0;31m---------------------------------------------------------------------------\u001b[0m",
      "\u001b[0;31mTypeError\u001b[0m                                 Traceback (most recent call last)",
      "Cell \u001b[0;32mIn[87], line 53\u001b[0m\n\u001b[1;32m     49\u001b[0m item\u001b[38;5;241m.\u001b[39mcommon_metadata\u001b[38;5;241m.\u001b[39mobject\u001b[38;5;241m=\u001b[39mkey \n\u001b[1;32m     52\u001b[0m \u001b[38;5;66;03m#set point cloud extension\u001b[39;00m\n\u001b[0;32m---> 53\u001b[0m pc_ext \u001b[38;5;241m=\u001b[39m \u001b[43mPointcloudExtension\u001b[49m\u001b[38;5;241;43m.\u001b[39;49m\u001b[43mext\u001b[49m\u001b[43m(\u001b[49m\u001b[43mitem\u001b[49m\u001b[43m,\u001b[49m\u001b[43m  \u001b[49m\u001b[43madd_if_missing\u001b[49m\u001b[38;5;241;43m=\u001b[39;49m\u001b[38;5;28;43;01mTrue\u001b[39;49;00m\u001b[43m)\u001b[49m\u001b[38;5;241;43m.\u001b[39;49m\u001b[43mapply\u001b[49m\u001b[43m(\u001b[49m\n\u001b[1;32m     54\u001b[0m \u001b[43m    \u001b[49m\u001b[43mcount\u001b[49m\u001b[38;5;241;43m=\u001b[39;49m\u001b[43m \u001b[49m\u001b[43mpoint_count\u001b[49m\u001b[43m,\u001b[49m\n\u001b[1;32m     55\u001b[0m \u001b[43m    \u001b[49m\u001b[38;5;28;43mtype\u001b[39;49m\u001b[38;5;241;43m=\u001b[39;49m\u001b[43m \u001b[49m\u001b[43mpoint_type\u001b[49m\u001b[43m,\u001b[49m\n\u001b[1;32m     56\u001b[0m \u001b[43m    \u001b[49m\u001b[43mencoding\u001b[49m\u001b[38;5;241;43m=\u001b[39;49m\u001b[43m \u001b[49m\u001b[38;5;124;43m\"\u001b[39;49m\u001b[38;5;124;43mbinary\u001b[39;49m\u001b[38;5;124;43m\"\u001b[39;49m\u001b[43m,\u001b[49m\u001b[43m                                   \u001b[49m\u001b[38;5;66;43;03m# not sure what to put for this??????\u001b[39;49;00m\n\u001b[1;32m     57\u001b[0m \u001b[43m    \u001b[49m\u001b[38;5;66;43;03m# schemas= point_schemas,\u001b[39;49;00m\n\u001b[1;32m     58\u001b[0m \u001b[43m    \u001b[49m\u001b[43mdensity\u001b[49m\u001b[38;5;241;43m=\u001b[39;49m\u001b[43m \u001b[49m\u001b[43mpoint_density\u001b[49m\u001b[43m,\u001b[49m\n\u001b[1;32m     59\u001b[0m \u001b[43m    \u001b[49m\u001b[43mstatistics\u001b[49m\u001b[38;5;241;43m=\u001b[39;49m\u001b[43mpoint_stats\u001b[49m\u001b[43m \u001b[49m\u001b[38;5;66;43;03m#,\u001b[39;49;00m\n\u001b[1;32m     60\u001b[0m \u001b[43m    \u001b[49m\u001b[38;5;66;43;03m#epsg= point_epsg\u001b[39;49;00m\n\u001b[1;32m     61\u001b[0m \u001b[43m\u001b[49m\u001b[43m)\u001b[49m\n\u001b[1;32m     63\u001b[0m \u001b[38;5;66;03m#both json and laz should be the assets \u001b[39;00m\n\u001b[1;32m     66\u001b[0m asset\u001b[38;5;241m=\u001b[39mpystac\u001b[38;5;241m.\u001b[39mAsset(href\u001b[38;5;241m=\u001b[39mlaz_info, media_type\u001b[38;5;241m=\u001b[39m\u001b[38;5;124m'\u001b[39m\u001b[38;5;124mapplication/octet-stream\u001b[39m\u001b[38;5;124m'\u001b[39m)\n",
      "\u001b[0;31mTypeError\u001b[0m: PointcloudExtension.apply() missing 1 required positional argument: 'schemas'"
     ]
    }
   ],
   "source": [
    "laz_id_to_items={}\n",
    "os.environ[\"AWS_NO_SIGN_REQUEST\"] = \"true\"\n",
    "s3 = boto3.resource('s3')\n",
    "\n",
    "for id, laz_info in laz_dict.items():\n",
    "    for key in laz_info:\n",
    "        # print(id)\n",
    "        # print(key)\n",
    "        # print(laz_info[key])\n",
    "        laz_uri=key\n",
    "        print(f\"Processing {laz_uri}\")\n",
    "        #read json for corresponding laz file from s3\n",
    "        laz_json=s3_client.get_object(Bucket=test_bucket, Key=laz_info[key])\n",
    "        json_text = laz_json[\"Body\"].read().decode()\n",
    "        json_content= json.loads(json_text)\n",
    "\n",
    "        # Extract bbox coordinates\n",
    "        bbox_coords = json_content['bbox']\n",
    "        left, bottom, right, top = bbox_coords[0], bbox_coords[1], bbox_coords[3], bbox_coords[4]   \n",
    "        # Create bounding box\n",
    "        bbox = [left, bottom, right, top]\n",
    "        footprint = Polygon([(left, bottom), (right, bottom), (right, top), (left, top), (left, bottom)])\n",
    "        footprint=mapping(footprint)\n",
    "        \n",
    "        point_count=(json_content['properties']['pc:count'])\n",
    "        point_density=(json_content['properties'][\"pc:density\"])\n",
    "        point_schemas=(json_content['properties'][\"pc:schemas\"])   # need to fix schema some how https://pystac.readthedocs.io/en/latest/api/extensions/pointcloud.html#pystac.extensions.pointcloud.Schema\n",
    "        point_type=(json_content['properties'][\"pc:type\"])\n",
    "        point_stats=(json_content['properties'][\"pc:statistics\"])\n",
    "        point_epsg=(json_content['properties'][\"pc:epsg\"])\n",
    "        \n",
    "        print(point_schemas)\n",
    "        \n",
    "        item=pystac.Item(\n",
    "            id=f\"laz{id}\", \n",
    "            geometry=footprint,\n",
    "            bbox=bbox,\n",
    "            datetime=datetime.utcnow(),\n",
    "            properties={},\n",
    "        )\n",
    "        item.validate\n",
    "        \n",
    "        #look to see if any of the common_metadata would be good for us\n",
    "        # maybe license?\n",
    "        #https://pystac.readthedocs.io/en/latest/api/common_metadata.html\n",
    "        # item.common_metadata.gsd = 0.3\n",
    "        # item.common_metadata.platform = \"Maxar\"\n",
    "        # item.common_metadata.instruments = [\"WorldView3\"]\n",
    "        item.common_metadata.object=key \n",
    "        \n",
    "        \n",
    "        #set point cloud extension\n",
    "        pc_ext = PointcloudExtension.ext(item,  add_if_missing=True).apply(\n",
    "            count= point_count,\n",
    "            type= point_type,\n",
    "            encoding= \"binary\",                                   # not sure what to put for this??????\n",
    "            schemas= point_schemas,\n",
    "            density= point_density,\n",
    "            statistics=point_stats #,\n",
    "            #epsg= point_epsg\n",
    "        )\n",
    "        \n",
    "        #both json and laz should be the assets \n",
    "\n",
    "        \n",
    "        asset=pystac.Asset(href=laz_info, media_type='application/octet-stream')\n",
    "        item.add_asset(key=f\"laz{id}\" , asset=asset)\n",
    "        ext = AssetPointcloudExtension(asset)\n",
    "        \n",
    "        \n",
    "        #both json and laz should be the assets \n",
    "        \n",
    "        # https://pystac.readthedocs.io/en/latest/api/extensions/pointcloud.html\n",
    "        \n",
    "        \n",
    "        asset = pystac.Asset(href=laz_info[key], media_type=pystac.MediaType.JSON)\n",
    "        item.add_asset(key=f\"json{id}\", asset=asset)\n",
    "        \n",
    "        \n",
    "    break"
   ]
  },
  {
   "cell_type": "code",
   "execution_count": 48,
   "metadata": {},
   "outputs": [
    {
     "ename": "AttributeError",
     "evalue": "'dict' object has no attribute 'geometry'",
     "output_type": "error",
     "traceback": [
      "\u001b[0;31m---------------------------------------------------------------------------\u001b[0m",
      "\u001b[0;31mAttributeError\u001b[0m                            Traceback (most recent call last)",
      "Cell \u001b[0;32mIn[48], line 2\u001b[0m\n\u001b[1;32m      1\u001b[0m \u001b[38;5;66;03m#Create collection\u001b[39;00m\n\u001b[0;32m----> 2\u001b[0m footprints \u001b[38;5;241m=\u001b[39m \u001b[38;5;28;43mlist\u001b[39;49m\u001b[43m(\u001b[49m\u001b[38;5;28;43mmap\u001b[39;49m\u001b[43m(\u001b[49m\u001b[38;5;28;43;01mlambda\u001b[39;49;00m\u001b[43m \u001b[49m\u001b[43mi\u001b[49m\u001b[43m:\u001b[49m\u001b[43m \u001b[49m\u001b[43mshape\u001b[49m\u001b[43m(\u001b[49m\u001b[43mi\u001b[49m\u001b[38;5;241;43m.\u001b[39;49m\u001b[43mgeometry\u001b[49m\u001b[43m)\u001b[49m\u001b[38;5;241;43m.\u001b[39;49m\u001b[43menvelope\u001b[49m\u001b[43m,\u001b[49m\u001b[43m \u001b[49m\u001b[43mlaz_items_id\u001b[49m\u001b[38;5;241;43m.\u001b[39;49m\u001b[43mvalues\u001b[49m\u001b[43m(\u001b[49m\u001b[43m)\u001b[49m\u001b[43m)\u001b[49m\u001b[43m)\u001b[49m\n\u001b[1;32m      3\u001b[0m collection_bbox \u001b[38;5;241m=\u001b[39m MultiPolygon(footprints)\u001b[38;5;241m.\u001b[39mbounds\n\u001b[1;32m      4\u001b[0m spatial_extent \u001b[38;5;241m=\u001b[39m pystac\u001b[38;5;241m.\u001b[39mSpatialExtent(bboxes\u001b[38;5;241m=\u001b[39m[collection_bbox])\n",
      "Cell \u001b[0;32mIn[48], line 2\u001b[0m, in \u001b[0;36m<lambda>\u001b[0;34m(i)\u001b[0m\n\u001b[1;32m      1\u001b[0m \u001b[38;5;66;03m#Create collection\u001b[39;00m\n\u001b[0;32m----> 2\u001b[0m footprints \u001b[38;5;241m=\u001b[39m \u001b[38;5;28mlist\u001b[39m(\u001b[38;5;28mmap\u001b[39m(\u001b[38;5;28;01mlambda\u001b[39;00m i: shape(\u001b[43mi\u001b[49m\u001b[38;5;241;43m.\u001b[39;49m\u001b[43mgeometry\u001b[49m)\u001b[38;5;241m.\u001b[39menvelope, laz_items_id\u001b[38;5;241m.\u001b[39mvalues()))\n\u001b[1;32m      3\u001b[0m collection_bbox \u001b[38;5;241m=\u001b[39m MultiPolygon(footprints)\u001b[38;5;241m.\u001b[39mbounds\n\u001b[1;32m      4\u001b[0m spatial_extent \u001b[38;5;241m=\u001b[39m pystac\u001b[38;5;241m.\u001b[39mSpatialExtent(bboxes\u001b[38;5;241m=\u001b[39m[collection_bbox])\n",
      "\u001b[0;31mAttributeError\u001b[0m: 'dict' object has no attribute 'geometry'"
     ]
    }
   ],
   "source": [
    "#Create collection\n",
    "footprints = list(map(lambda i: shape(i.geometry).envelope, laz_items_id.values()))\n",
    "collection_bbox = MultiPolygon(footprints).bounds\n",
    "spatial_extent = pystac.SpatialExtent(bboxes=[collection_bbox])\n",
    "datetimes = sorted(list(map(lambda i: i.datetime, laz_items_id.values())))\n",
    "temporal_extent = pystac.TemporalExtent(intervals=[[datetimes[0], datetimes[-1]]])\n",
    "collection_extent = pystac.Extent(spatial=spatial_extent, temporal=temporal_extent)\n",
    "\n",
    "collection = pystac.Collection(\n",
    "    id=\"Lidar-BC-Test\",\n",
    "    description=\"Test STAC of BC Open Lidar in STAC\",\n",
    "    extent=collection_extent,\n",
    "    license=\"BC Open Data \",\n",
    ")\n",
    "\n",
    "collection.add_items(laz_items_id.values())"
   ]
  },
  {
   "cell_type": "code",
   "execution_count": 27,
   "metadata": {},
   "outputs": [
    {
     "name": "stdout",
     "output_type": "stream",
     "text": [
      "* <Collection id=Lidar-BC-Test>\n",
      "  * <Item id=laz0>\n",
      "  * <Item id=laz1>\n",
      "  * <Item id=laz2>\n",
      "  * <Item id=laz3>\n",
      "  * <Item id=laz4>\n",
      "  * <Item id=laz5>\n",
      "  * <Item id=laz6>\n",
      "  * <Item id=laz7>\n",
      "  * <Item id=laz8>\n"
     ]
    }
   ],
   "source": [
    "collection.describe()"
   ]
  },
  {
   "cell_type": "code",
   "execution_count": 28,
   "metadata": {},
   "outputs": [
    {
     "data": {
      "text/html": [
       "\n",
       "\n",
       "<style>\n",
       ".pystac-summary {\n",
       "    cursor: pointer;\n",
       "    display:list-item;\n",
       "}\n",
       ".pystac-key {\n",
       "    color: rgb(0, 128, 0);\n",
       "    font-weight: 700;\n",
       "}\n",
       ".pystac-key-value {\n",
       "    display: inline-block;\n",
       "    margin: 0px 0.5em 0px 0px;\n",
       "}\n",
       "</style>\n",
       "<div class=\"jp-RenderedJSON jp-mod-trusted jp-OutputArea-output\">\n",
       "    <div class=\"container\" style=\"line-height: normal;\">\n",
       "        <ul style=\"padding: 0px; margin: 0px; list-style: none; display: block;\">\n",
       "            \n",
       "                \n",
       "                    \n",
       "        <li style=\"overflow-wrap: break-word; padding-left: 2.125em; text-indent: -0.5em;\">\n",
       "            <span class=\"pystac-key pystac-key-value\">rel</span>\n",
       "            <span style=\"color: rgb(186, 33, 33);\">\"child\"</span>\n",
       "        </li>\n",
       "    \n",
       "                \n",
       "            \n",
       "                \n",
       "                    \n",
       "        <li style=\"overflow-wrap: break-word; padding-left: 2.125em; text-indent: -0.5em;\">\n",
       "            <span class=\"pystac-key pystac-key-value\">href</span>\n",
       "            <span style=\"color: rgb(186, 33, 33);\">None</span>\n",
       "        </li>\n",
       "    \n",
       "                \n",
       "            \n",
       "                \n",
       "                    \n",
       "        <li style=\"overflow-wrap: break-word; padding-left: 2.125em; text-indent: -0.5em;\">\n",
       "            <span class=\"pystac-key pystac-key-value\">type</span>\n",
       "            <span style=\"color: rgb(186, 33, 33);\">\"application/json\"</span>\n",
       "        </li>\n",
       "    \n",
       "                \n",
       "            \n",
       "        </ul>\n",
       "    </div>\n",
       "</div>"
      ],
      "text/plain": [
       "<Link rel=child target=<Collection id=Lidar-BC-Test>>"
      ]
     },
     "execution_count": 28,
     "metadata": {},
     "output_type": "execute_result"
    }
   ],
   "source": [
    "#create STAC \n",
    "catalog = pystac.Catalog(id=\"lidar-test\", description=\"Test catalog for the potential use of STAC to access open LiDAR Data\")\n",
    "catalog.add_child(collection)"
   ]
  },
  {
   "cell_type": "code",
   "execution_count": 29,
   "metadata": {},
   "outputs": [
    {
     "name": "stdout",
     "output_type": "stream",
     "text": [
      "* <Catalog id=lidar-test>\n",
      "    * <Collection id=Lidar-BC-Test>\n",
      "      * <Item id=laz0>\n",
      "      * <Item id=laz1>\n",
      "      * <Item id=laz2>\n",
      "      * <Item id=laz3>\n",
      "      * <Item id=laz4>\n",
      "      * <Item id=laz5>\n",
      "      * <Item id=laz6>\n",
      "      * <Item id=laz7>\n",
      "      * <Item id=laz8>\n"
     ]
    }
   ],
   "source": [
    "catalog.describe()"
   ]
  }
 ],
 "metadata": {
  "kernelspec": {
   "display_name": "stac_tools",
   "language": "python",
   "name": "python3"
  },
  "language_info": {
   "codemirror_mode": {
    "name": "ipython",
    "version": 3
   },
   "file_extension": ".py",
   "mimetype": "text/x-python",
   "name": "python",
   "nbconvert_exporter": "python",
   "pygments_lexer": "ipython3",
   "version": "3.11.7"
  }
 },
 "nbformat": 4,
 "nbformat_minor": 2
}
